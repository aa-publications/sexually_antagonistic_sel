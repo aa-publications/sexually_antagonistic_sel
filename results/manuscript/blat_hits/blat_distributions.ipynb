{
 "cells": [
  {
   "cell_type": "code",
   "execution_count": 1,
   "metadata": {
    "ExecuteTime": {
     "end_time": "2020-02-08T20:13:54.444142Z",
     "start_time": "2020-02-08T20:13:37.667760Z"
    }
   },
   "outputs": [
    {
     "data": {
      "text/html": [
       "<style>.container {width:97% !important; }</style>"
      ],
      "text/plain": [
       "<IPython.core.display.HTML object>"
      ]
     },
     "metadata": {},
     "output_type": "display_data"
    }
   ],
   "source": [
    "import os, sys\n",
    "import numpy as np\n",
    "import pandas as pd \n",
    "import seaborn as sns\n",
    "from datetime import datetime\n",
    "\n",
    "from IPython.core.interactiveshell import InteractiveShell\n",
    "InteractiveShell.ast_node_interactivity = \"all\" \n",
    "from IPython.core.display import display, HTML    \n",
    "display(HTML(\"<style>.container {width:97% !important; }</style>\"))\n",
    "%matplotlib inline \n",
    "np.set_printoptions(precision=5, suppress=True) \n",
    "\n",
    "from docx import Document\n",
    "\n",
    "DATE = datetime.now().strftime('%Y-%m-%d')"
   ]
  },
  {
   "cell_type": "code",
   "execution_count": 2,
   "metadata": {
    "ExecuteTime": {
     "end_time": "2020-02-08T20:13:54.455170Z",
     "start_time": "2020-02-08T20:13:54.449118Z"
    }
   },
   "outputs": [],
   "source": [
    "from glob import glob \n",
    "import matplotlib.pyplot as plt\n",
    "import seaborn as sns"
   ]
  },
  {
   "cell_type": "code",
   "execution_count": 3,
   "metadata": {
    "ExecuteTime": {
     "end_time": "2020-02-08T20:13:55.394932Z",
     "start_time": "2020-02-08T20:13:54.459722Z"
    }
   },
   "outputs": [],
   "source": [
    "import rpy2.rinterface \n",
    "%load_ext rpy2.ipython"
   ]
  },
  {
   "cell_type": "code",
   "execution_count": null,
   "metadata": {},
   "outputs": [],
   "source": [
    "# LOAD GWAS HITS \n",
    "raw_uk_df = pd.read_csv( UK_GWAS_FILE, sep=\",\")\n",
    "raw_bv_df = pd.read_csv( BV_GWAS_FILE, sep=\"\\s+\")\n",
    "\n",
    "# format results \n",
    "uk_gwas_df = raw_uk_df.loc[raw_uk_df.missing_p > MISS_P_THRESHOLD].copy() \n",
    "print(\"UKBB: Removed {:,} out of {:,} snps with singificant missingness b/w cases and controls.\".format(raw_uk_df.shape[0] - uk_gwas_df.shape[0], raw_uk_df.shape[0]))\n",
    "uk_gwas_df['chr_pos'] = uk_gwas_df.CHR.map(str) + \":\" + uk_gwas_df.BP.map(str)\n",
    "\n",
    "bv_gwas_df = raw_bv_df.loc[(raw_bv_df.TEST == \"ADD\") & (raw_bv_df.CHR < 23),].copy()\n",
    "bv_gwas_df['chr_pos'] = bv_gwas_df.CHR.map(str) + \":\" + bv_gwas_df.BP.map(str)"
   ]
  },
  {
   "cell_type": "code",
   "execution_count": null,
   "metadata": {},
   "outputs": [],
   "source": [
    "# -- dictionary mapping SNP to whether it is GWAS SIGNIFICANT \n",
    "\n",
    "uksig_dict = dict(zip(uk_gwas_df.SNP, uk_gwas_df.stat_sig))\n",
    "bvsig_dict = dict(zip(bv_gwas_df.SNP, bv_gwas_df.stat_sig))\n",
    "\n",
    "# map gwas significant to BLAT hits \n",
    "all_bv_webblat_df['stat_sig'] = all_bv_webblat_df.bim_mapped_rsID.map(bvsig_dict)\n",
    "all_ukwcsf_webblat_df['stat_sig'] = all_ukwcsf_webblat_df.bim_mapped_rsID.map(uksig_dict)\n",
    "all_ukbil_webblat_df['stat_sig'] = all_ukbil_webblat_df.bim_mapped_rsID.map(uksig_dict)\n",
    "\n"
   ]
  }
 ],
 "metadata": {
  "kernelspec": {
   "display_name": "Python 3",
   "language": "python",
   "name": "python3"
  },
  "language_info": {
   "codemirror_mode": {
    "name": "ipython",
    "version": 3
   },
   "file_extension": ".py",
   "mimetype": "text/x-python",
   "name": "python",
   "nbconvert_exporter": "python",
   "pygments_lexer": "ipython3",
   "version": "3.6.7"
  },
  "toc": {
   "base_numbering": 1,
   "nav_menu": {},
   "number_sections": true,
   "sideBar": true,
   "skip_h1_title": false,
   "title_cell": "Table of Contents",
   "title_sidebar": "Contents",
   "toc_cell": false,
   "toc_position": {},
   "toc_section_display": true,
   "toc_window_display": false
  }
 },
 "nbformat": 4,
 "nbformat_minor": 2
}
