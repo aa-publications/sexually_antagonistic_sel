{
 "cells": [
  {
   "cell_type": "markdown",
   "metadata": {},
   "source": [
    "# Comparing UKBB and BioVU genome wide hits"
   ]
  },
  {
   "cell_type": "markdown",
   "metadata": {},
   "source": [
    "-manhattan plots   \n",
    "-any shared snps\n"
   ]
  },
  {
   "cell_type": "code",
   "execution_count": 1,
   "metadata": {
    "ExecuteTime": {
     "end_time": "2019-12-08T16:47:48.813337Z",
     "start_time": "2019-12-08T16:47:43.969584Z"
    }
   },
   "outputs": [
    {
     "data": {
      "text/html": [
       "<style>.container {width:90% !important; }</style>"
      ],
      "text/plain": [
       "<IPython.core.display.HTML object>"
      ]
     },
     "metadata": {},
     "output_type": "display_data"
    }
   ],
   "source": [
    "import os, sys\n",
    "import numpy as np\n",
    "import pandas as pd \n",
    "import seaborn as sns\n",
    "import matplotlib.pyplot as plt \n",
    "import matplotlib.colors\n",
    "from datetime import datetime\n",
    "\n",
    "from IPython.core.interactiveshell import InteractiveShell\n",
    "InteractiveShell.ast_node_interactivity = \"all\" \n",
    "from IPython.core.display import display, HTML    \n",
    "display(HTML(\"<style>.container {width:90% !important; }</style>\"))\n",
    "%matplotlib inline \n",
    "np.set_printoptions(precision=5, suppress=True) \n",
    "\n",
    "DATE = datetime.now().strftime('%Y-%m-%d')"
   ]
  },
  {
   "cell_type": "code",
   "execution_count": 2,
   "metadata": {
    "ExecuteTime": {
     "end_time": "2019-12-08T16:47:48.821597Z",
     "start_time": "2019-12-08T16:47:48.816556Z"
    }
   },
   "outputs": [],
   "source": [
    "import matplotlib.font_manager as fm\n",
    "fpath='/dors/capra_lab/users/abraha1/conda/envs/py36_r_ml/lib/python3.6/site-packages/matplotlib/mpl-data/fonts/ttf/Arial.ttf'\n",
    "prop = fm.FontProperties(fname=fpath, size=16)\n",
    "bigprop = fm.FontProperties(fname=fpath, size=20)"
   ]
  },
  {
   "cell_type": "code",
   "execution_count": 3,
   "metadata": {
    "ExecuteTime": {
     "end_time": "2019-12-08T16:47:48.867977Z",
     "start_time": "2019-12-08T16:47:48.824320Z"
    }
   },
   "outputs": [],
   "source": [
    "sys.path.append(\"/dors/capra_lab/users/abraha1/bin/python_modules/assocplots\")\n",
    "from assocplots.manhattan import *"
   ]
  },
  {
   "cell_type": "code",
   "execution_count": 4,
   "metadata": {
    "ExecuteTime": {
     "end_time": "2019-12-08T16:47:50.092926Z",
     "start_time": "2019-12-08T16:47:48.871996Z"
    }
   },
   "outputs": [],
   "source": [
    "import rpy2.rinterface \n",
    "%load_ext rpy2.ipython"
   ]
  },
  {
   "cell_type": "code",
   "execution_count": 34,
   "metadata": {
    "ExecuteTime": {
     "end_time": "2019-12-08T17:45:28.203659Z",
     "start_time": "2019-12-08T17:45:28.197311Z"
    }
   },
   "outputs": [],
   "source": [
    "GWAS_P_THRESH = 5*10**-8\n",
    "SUGG_GWAS_P_THRESH = 1*10**-6\n",
    "MISS_P_THRESHOLD = 0.00001"
   ]
  },
  {
   "cell_type": "code",
   "execution_count": 6,
   "metadata": {
    "ExecuteTime": {
     "end_time": "2019-12-08T16:47:50.136513Z",
     "start_time": "2019-12-08T16:47:50.105242Z"
    }
   },
   "outputs": [],
   "source": [
    "# PATHS\n",
    "root=\"/dors/capra_lab/users/abraha1/prelim_studies/katja_biobank/\"\n",
    "ukbb_path = os.path.join(root, \"data/assoc_from_katja_2019_08_20/20190819_gwas_pca12_centers_age_FINAL.csv\")\n",
    "biovu_path= os.path.join(root, \"results/2019_07_21_logistic/2019_07_21_logistic.assoc.logistic\")\n",
    "\n",
    "imp_bv_snps_path = \"/dors/capra_lab/users/abraha1/prelim_studies/katja_biobank/data/snps_imputed_20190827_EU_filt1.txt\"\n",
    "\n",
    "ld_snps_ukbb=\"/dors/capra_lab/users/abraha1/prelim_studies/katja_biobank/results/manuscript/ukbb_ld_w_sig_hits_super_euro_1kg.txt\"\n",
    "ld_snps_biovu=\"/dors/capra_lab/users/abraha1/prelim_studies/katja_biobank/results/manuscript/biovu_ld_w_sig_hits_super_euro_1kg.txt\"\n",
    "\n",
    "output_dir=\"/dors/capra_lab/users/abraha1/prelim_studies/katja_biobank/results/manuscript/manhattan_plots\""
   ]
  },
  {
   "cell_type": "markdown",
   "metadata": {},
   "source": [
    "# load and filter"
   ]
  },
  {
   "cell_type": "code",
   "execution_count": 7,
   "metadata": {
    "ExecuteTime": {
     "end_time": "2019-12-08T16:48:11.019275Z",
     "start_time": "2019-12-08T16:47:50.138188Z"
    },
    "scrolled": true
   },
   "outputs": [],
   "source": [
    "# LOAD \n",
    "raw_uk_df = pd.read_csv( ukbb_path, sep=\",\")\n",
    "raw_bv_df = pd.read_csv( biovu_path, sep=\"\\s+\")\n",
    "imp_snps_df = pd.read_csv(imp_bv_snps_path, header=None, names=['snps'])"
   ]
  },
  {
   "cell_type": "code",
   "execution_count": 8,
   "metadata": {
    "ExecuteTime": {
     "end_time": "2019-12-08T16:48:11.655922Z",
     "start_time": "2019-12-08T16:48:11.021293Z"
    }
   },
   "outputs": [
    {
     "name": "stdout",
     "output_type": "stream",
     "text": [
      "Removed 28,714 out of 648,754 snps with singificant missingness b/w cases and controls.\n"
     ]
    }
   ],
   "source": [
    "uk_df = raw_uk_df.loc[raw_uk_df.missing_p > MISS_P_THRESHOLD].copy() \n",
    "print(\"Removed {:,} out of {:,} snps with singificant missingness b/w cases and controls.\".format(raw_uk_df.shape[0] - uk_df.shape[0], raw_uk_df.shape[0]))\n",
    "uk_df['chr_pos'] = uk_df.CHR.map(str) + \":\" + uk_df.BP.map(str)"
   ]
  },
  {
   "cell_type": "code",
   "execution_count": 9,
   "metadata": {
    "ExecuteTime": {
     "end_time": "2019-12-08T16:48:12.808798Z",
     "start_time": "2019-12-08T16:48:11.657999Z"
    },
    "scrolled": true
   },
   "outputs": [],
   "source": [
    "bv_df = raw_bv_df.loc[(raw_bv_df.TEST == \"ADD\") & (raw_bv_df.CHR < 23),].copy()\n",
    "bv_df['chr_pos'] = bv_df.CHR.map(str) + \":\" + bv_df.BP.map(str)"
   ]
  },
  {
   "cell_type": "markdown",
   "metadata": {},
   "source": [
    "# significant regions"
   ]
  },
  {
   "cell_type": "code",
   "execution_count": 10,
   "metadata": {
    "ExecuteTime": {
     "end_time": "2019-12-08T16:48:13.075388Z",
     "start_time": "2019-12-08T16:48:12.812304Z"
    }
   },
   "outputs": [],
   "source": [
    "sig_uk_df = uk_df.loc[uk_df.P < GWAS_P_THRESH].copy()\n",
    "sig_bv_df = bv_df.loc[(bv_df.P < GWAS_P_THRESH)].copy()"
   ]
  },
  {
   "cell_type": "code",
   "execution_count": 11,
   "metadata": {
    "ExecuteTime": {
     "end_time": "2019-12-08T16:48:13.084193Z",
     "start_time": "2019-12-08T16:48:13.077668Z"
    }
   },
   "outputs": [
    {
     "name": "stdout",
     "output_type": "stream",
     "text": [
      "UKBB: Number of genome wide significant 8\n",
      "BV: Number of genome wide significant 5\n"
     ]
    }
   ],
   "source": [
    "print(\"UKBB: Number of genome wide significant {:,}\".format(sig_uk_df.shape[0]))\n",
    "print(\"BV: Number of genome wide significant {:,}\".format(sig_bv_df.shape[0]))"
   ]
  },
  {
   "cell_type": "code",
   "execution_count": 12,
   "metadata": {
    "ExecuteTime": {
     "end_time": "2019-12-08T16:48:13.223889Z",
     "start_time": "2019-12-08T16:48:13.086185Z"
    },
    "scrolled": false
   },
   "outputs": [
    {
     "data": {
      "text/html": [
       "<div>\n",
       "<style scoped>\n",
       "    .dataframe tbody tr th:only-of-type {\n",
       "        vertical-align: middle;\n",
       "    }\n",
       "\n",
       "    .dataframe tbody tr th {\n",
       "        vertical-align: top;\n",
       "    }\n",
       "\n",
       "    .dataframe thead th {\n",
       "        text-align: right;\n",
       "    }\n",
       "</style>\n",
       "<table border=\"1\" class=\"dataframe\">\n",
       "  <thead>\n",
       "    <tr style=\"text-align: right;\">\n",
       "      <th></th>\n",
       "      <th>CHR</th>\n",
       "      <th>SNP</th>\n",
       "      <th>BP</th>\n",
       "      <th>A1</th>\n",
       "      <th>TEST</th>\n",
       "      <th>NMISS</th>\n",
       "      <th>OR</th>\n",
       "      <th>STAT</th>\n",
       "      <th>P</th>\n",
       "      <th>chr_pos</th>\n",
       "    </tr>\n",
       "  </thead>\n",
       "  <tbody>\n",
       "  </tbody>\n",
       "</table>\n",
       "</div>"
      ],
      "text/plain": [
       "Empty DataFrame\n",
       "Columns: [CHR, SNP, BP, A1, TEST, NMISS, OR, STAT, P, chr_pos]\n",
       "Index: []"
      ]
     },
     "execution_count": 12,
     "metadata": {},
     "output_type": "execute_result"
    },
    {
     "data": {
      "text/html": [
       "<div>\n",
       "<style scoped>\n",
       "    .dataframe tbody tr th:only-of-type {\n",
       "        vertical-align: middle;\n",
       "    }\n",
       "\n",
       "    .dataframe tbody tr th {\n",
       "        vertical-align: top;\n",
       "    }\n",
       "\n",
       "    .dataframe thead th {\n",
       "        text-align: right;\n",
       "    }\n",
       "</style>\n",
       "<table border=\"1\" class=\"dataframe\">\n",
       "  <thead>\n",
       "    <tr style=\"text-align: right;\">\n",
       "      <th></th>\n",
       "      <th>CHR</th>\n",
       "      <th>SNP</th>\n",
       "      <th>BP</th>\n",
       "      <th>A1</th>\n",
       "      <th>TEST</th>\n",
       "      <th>NMISS</th>\n",
       "      <th>OR</th>\n",
       "      <th>STAT</th>\n",
       "      <th>P</th>\n",
       "      <th>missing_p</th>\n",
       "      <th>chr_pos</th>\n",
       "    </tr>\n",
       "  </thead>\n",
       "  <tbody>\n",
       "  </tbody>\n",
       "</table>\n",
       "</div>"
      ],
      "text/plain": [
       "Empty DataFrame\n",
       "Columns: [CHR, SNP, BP, A1, TEST, NMISS, OR, STAT, P, missing_p, chr_pos]\n",
       "Index: []"
      ]
     },
     "execution_count": 12,
     "metadata": {},
     "output_type": "execute_result"
    }
   ],
   "source": [
    "# there is no overlap of the significant variants tested (by position) between the two datsets \n",
    "bv_df[bv_df.chr_pos.isin(sig_uk_df.chr_pos)]\n",
    "uk_df[uk_df.chr_pos.isin(sig_bv_df.chr_pos)]"
   ]
  },
  {
   "cell_type": "code",
   "execution_count": 15,
   "metadata": {
    "ExecuteTime": {
     "end_time": "2019-12-08T16:49:54.520929Z",
     "start_time": "2019-12-08T16:49:54.515869Z"
    }
   },
   "outputs": [],
   "source": [
    "rename_bv_snps = {'JHU_3.16652239' :'rs9870157',\n",
    "'JHU_13.20119335' :'rs9508454',\n",
    "'14:35761675-C-G' :'rs1048990'}"
   ]
  },
  {
   "cell_type": "code",
   "execution_count": 19,
   "metadata": {
    "ExecuteTime": {
     "end_time": "2019-12-08T16:51:16.819080Z",
     "start_time": "2019-12-08T16:51:16.811586Z"
    }
   },
   "outputs": [
    {
     "data": {
      "text/plain": [
       "dict_keys(['JHU_3.16652239', 'JHU_13.20119335', '14:35761675-C-G'])"
      ]
     },
     "execution_count": 19,
     "metadata": {},
     "output_type": "execute_result"
    }
   ],
   "source": [
    "rename_bv_snps.keys()"
   ]
  },
  {
   "cell_type": "code",
   "execution_count": 25,
   "metadata": {
    "ExecuteTime": {
     "end_time": "2019-12-08T16:52:07.190668Z",
     "start_time": "2019-12-08T16:52:06.885549Z"
    }
   },
   "outputs": [],
   "source": [
    "# rename snp IDs in biovu to \n",
    "bv_df.SNP = bv_df.SNP.apply(lambda x: rename_bv_snps[x] if x in rename_bv_snps.keys() else x)\n",
    "sig_bv_df.SNP = sig_bv_df.SNP.apply(lambda x: rename_bv_snps[x] if x in rename_bv_snps.keys() else x)\n"
   ]
  },
  {
   "cell_type": "markdown",
   "metadata": {},
   "source": [
    "## suggestive significance"
   ]
  },
  {
   "cell_type": "code",
   "execution_count": 36,
   "metadata": {
    "ExecuteTime": {
     "end_time": "2019-12-08T17:48:17.585818Z",
     "start_time": "2019-12-08T17:48:17.571836Z"
    }
   },
   "outputs": [],
   "source": [
    "sug_sig_uk_df = uk_df.loc[uk_df.P < SUGG_GWAS_P_THRESH].copy()\n",
    "sug_sig_bv_df = bv_df.loc[(bv_df.P < SUGG_GWAS_P_THRESH)].copy()"
   ]
  },
  {
   "cell_type": "code",
   "execution_count": 37,
   "metadata": {
    "ExecuteTime": {
     "end_time": "2019-12-08T17:48:37.594879Z",
     "start_time": "2019-12-08T17:48:37.587195Z"
    }
   },
   "outputs": [
    {
     "name": "stdout",
     "output_type": "stream",
     "text": [
      "UKBB: Number of suggestive genome wide significant 14\n",
      "BV: Number of suggestive genome wide significant 8\n"
     ]
    }
   ],
   "source": [
    "print(\"UKBB: Number of suggestive genome wide significant {:,}\".format(sug_sig_uk_df.shape[0]))\n",
    "print(\"BV: Number of suggestive genome wide significant {:,}\".format(sug_sig_bv_df.shape[0]))"
   ]
  },
  {
   "cell_type": "markdown",
   "metadata": {},
   "source": [
    "# one manhattan plot"
   ]
  },
  {
   "cell_type": "code",
   "execution_count": 28,
   "metadata": {
    "ExecuteTime": {
     "end_time": "2019-12-08T16:57:39.816628Z",
     "start_time": "2019-12-08T16:57:39.047373Z"
    },
    "code_folding": []
   },
   "outputs": [],
   "source": [
    "%%R \n",
    "# set plot parameters\n",
    "theme_Publication <- function(base_size=14, base_family=\"Arial\") {\n",
    "      library(grid)\n",
    "      library(ggthemes)\n",
    "      (theme_foundation(base_size=base_size, base_family=base_family)\n",
    "       + theme(plot.title = element_text(face = \"plain\", size = rel(1.2), hjust = 0.5),\n",
    "               text = element_text(),\n",
    "               panel.background = element_rect(colour = NA),\n",
    "               plot.background = element_rect(colour = NA),\n",
    "               panel.border = element_rect(colour = NA),\n",
    "               axis.title = element_text(face = \"plain\",size = rel(1)),\n",
    "               axis.title.y = element_text(angle=90,vjust =2),\n",
    "               axis.title.x = element_text(vjust = -0.2),\n",
    "               axis.text = element_text(), \n",
    "               axis.line = element_line(colour=\"black\"),\n",
    "               axis.ticks = element_line(),\n",
    "               panel.grid.major = element_line(colour=\"#f0f0f0\"),\n",
    "               panel.grid.major.y = element_blank(),\n",
    "               panel.grid.minor = element_blank(),\n",
    "               legend.key = element_rect(colour = NA),\n",
    "               legend.position = \"bottom\",\n",
    "               legend.direction = \"horizontal\",\n",
    "               legend.key.size= unit(0.2, \"cm\"),\n",
    "               legend.margin = unit(0, \"cm\"),\n",
    "               legend.title = element_text(face=\"italic\"),\n",
    "               plot.margin=unit(c(10,5,5,5),\"mm\"),\n",
    "               strip.background=element_rect(colour=\"#f0f0f0\",fill=\"#f0f0f0\"),\n",
    "               strip.text = element_text(face=\"plain\")\n",
    "          ))\n",
    "      \n",
    "}\n",
    "\n",
    "scale_fill_Publication <- function(...){\n",
    "      library(scales)\n",
    "      discrete_scale(\"fill\",\"Publication\",manual_pal(values = c(\"#386cb0\",\"#fdb462\",\"#7fc97f\",\"#ef3b2c\",\"#662506\",\"#a6cee3\",\"#fb9a99\",\"#984ea3\",\"#ffff33\")), ...)\n",
    "\n",
    "}\n",
    "\n",
    "scale_colour_Publication <- function(...){\n",
    "      library(scales)\n",
    "      discrete_scale(\"colour\",\"Publication\",manual_pal(values = c(\"#386cb0\",\"#fdb462\",\"#7fc97f\",\"#ef3b2c\",\"#662506\",\"#a6cee3\",\"#fb9a99\",\"#984ea3\",\"#ffff33\")), ...)\n",
    "\n",
    "}"
   ]
  },
  {
   "cell_type": "code",
   "execution_count": 29,
   "metadata": {
    "ExecuteTime": {
     "end_time": "2019-12-08T16:57:45.086470Z",
     "start_time": "2019-12-08T16:57:39.821307Z"
    },
    "code_folding": []
   },
   "outputs": [
    {
     "name": "stderr",
     "output_type": "stream",
     "text": [
      "/dors/capra_lab/users/abraha1/conda/envs/py36_r_ml/lib/python3.6/site-packages/rpy2/rinterface/__init__.py:145: RRuntimeWarning: \n",
      "Attaching package: ‘dplyr’\n",
      "\n",
      "\n",
      "  warnings.warn(x, RRuntimeWarning)\n",
      "/dors/capra_lab/users/abraha1/conda/envs/py36_r_ml/lib/python3.6/site-packages/rpy2/rinterface/__init__.py:145: RRuntimeWarning: The following objects are masked from ‘package:stats’:\n",
      "\n",
      "    filter, lag\n",
      "\n",
      "\n",
      "  warnings.warn(x, RRuntimeWarning)\n",
      "/dors/capra_lab/users/abraha1/conda/envs/py36_r_ml/lib/python3.6/site-packages/rpy2/rinterface/__init__.py:145: RRuntimeWarning: The following objects are masked from ‘package:base’:\n",
      "\n",
      "    intersect, setdiff, setequal, union\n",
      "\n",
      "\n",
      "  warnings.warn(x, RRuntimeWarning)\n"
     ]
    }
   ],
   "source": [
    "%%R \n",
    "library(ggplot2)\n",
    "library(readr)\n",
    "library(ggrepel)\n",
    "library(ggplot2)\n",
    "library(dplyr)\n",
    "library(RColorBrewer)\n",
    "\n",
    "gg.manhattan <- function(df, threshold, hlight, col, ylims, title){\n",
    "    sig = 5e-8 # significant threshold line\n",
    "    sugg = 1e-6 # suggestive threshold line\n",
    "    \n",
    "    df.tmp = df %>% group_by(CHR) %>% summarise(chr_len=max(BP)) %>% mutate(tot=cumsum(chr_len)-chr_len) %>% select(-chr_len) %>% left_join(df, ., by=c(\"CHR\"=\"CHR\"))\n",
    "    df.tmp = df.tmp %>% arrange(CHR, BP) %>% mutate(BPcum=BP+tot) %>% mutate( is_highlight=ifelse(SNP %in% hlight, \"yes\", \"no\")) %>% mutate( is_annotate=ifelse(P < threshold, \"yes\", \"no\"))\n",
    "\n",
    "    axisdf <- df.tmp %>% group_by(CHR) %>% summarize(center=( max(BPcum) + min(BPcum) ) / 2 )\n",
    "\n",
    "    plt = ggplot(df.tmp, aes(x=BPcum, y=-log10(P))) +\n",
    "        # Show all points\n",
    "        geom_point(aes(color=as.factor(CHR)), alpha=0.8, size=2) +\n",
    "        scale_color_manual(values = rep(col, 22 ))+\n",
    "\n",
    "        # custom X axis:\n",
    "        scale_x_continuous( label = axisdf$CHR, breaks= axisdf$center ) +\n",
    "        scale_y_continuous(expand = c(0, 0), limits = ylims) + # expand=c(0,0)removes space between plot area and x axis \n",
    "\n",
    "        # add plot and axis titles\n",
    "        ggtitle(paste0(title)) +\n",
    "        labs(x = \"Chromosome\") +     # add genome-wide sig and sugg lines\n",
    "        geom_hline(yintercept = -log10(sig), color='firebrick') +\n",
    "        geom_hline(yintercept = -log10(sugg), linetype=\"dashed\", color='firebrick') + \n",
    "\n",
    "        geom_point(data=subset(df.tmp, is_highlight==\"yes\"), color=\"firebrick2\", size=2) +\n",
    "    \n",
    "        # Add label using ggrepel to avoid overlapping\n",
    "        geom_label_repel(data=df.tmp[df.tmp$is_annotate==\"yes\",], aes(label=as.factor(SNP), alpha=0.7), size=5, label.size=NA, force=1.3) +\n",
    "    \n",
    "    \n",
    "    \n",
    "        theme_bw(base_size = 22) +\n",
    "        theme( \n",
    "          plot.title = element_text(hjust = 0.5),\n",
    "          legend.position=\"none\",\n",
    "          panel.border = element_blank(),\n",
    "          panel.grid.major.x = element_blank(),\n",
    "          panel.grid.minor.x = element_blank())\n",
    "    return(plt)\n",
    "}"
   ]
  },
  {
   "cell_type": "code",
   "execution_count": 32,
   "metadata": {
    "ExecuteTime": {
     "end_time": "2019-12-08T17:32:14.863411Z",
     "start_time": "2019-12-08T17:31:27.927274Z"
    },
    "code_folding": [
     11
    ]
   },
   "outputs": [],
   "source": [
    "%%R -i output_dir -i uk_df  -h 500 -w 1200\n",
    "\n",
    "highlight_snps= (uk_df %>% filter(P < 5e-8) %>% select(SNP))$SNP\n",
    "\n",
    "threshold=5e-8\n",
    "hlight=highlight_snps\n",
    "col=c(\"#E2709A\", \"#CB4577\")\n",
    "\n",
    "ylims=c(0,-1*log10(min(uk_df$P))+2)\n",
    "title=\"Replication GWAS\"\n",
    "\n",
    "\n",
    "png_file = file.path(output_dir, paste( Sys.Date(), \"_ukbb_manplot.png\", sep=\"\"))\n",
    "\n",
    "\n",
    "plt = gg.manhattan(uk_df, threshold, hlight, col, ylims, title) + theme_Publication(base_size=18) + theme(legend.position=\"none\")\n",
    "\n",
    "ggsave(png_file, plot=plt)\n",
    "\n"
   ]
  },
  {
   "cell_type": "code",
   "execution_count": 33,
   "metadata": {
    "ExecuteTime": {
     "end_time": "2019-12-08T17:33:15.390901Z",
     "start_time": "2019-12-08T17:32:14.866022Z"
    }
   },
   "outputs": [],
   "source": [
    "%%R -i bv_df  -h 500 -w 1200\n",
    "\n",
    "highlight_snps= (bv_df %>% filter(P < 5e-8) %>% select(SNP))$SNP\n",
    "\n",
    "threshold=5e-8\n",
    "hlight=highlight_snps\n",
    "col=c(\"#E2709A\", \"#CB4577\")\n",
    "\n",
    "ylims=c(0,-1*log10(min(bv_df$P))+2)\n",
    "title=\"Discovery GWAS\"\n",
    "\n",
    "\n",
    "png_file = file.path(output_dir, paste( Sys.Date(), \"_biovu_manplot.png\", sep=\"\"))\n",
    "\n",
    "\n",
    "plt = gg.manhattan(bv_df, threshold, hlight, col, ylims, title) + theme_Publication(base_size=18) + theme(legend.position=\"none\")\n",
    "plt\n",
    "# ggsave(pdf_file, plot=plt)\n",
    "ggsave(png_file, plot=plt)"
   ]
  },
  {
   "cell_type": "code",
   "execution_count": null,
   "metadata": {},
   "outputs": [],
   "source": []
  }
 ],
 "metadata": {
  "kernelspec": {
   "display_name": "Python 3",
   "language": "python",
   "name": "python3"
  },
  "language_info": {
   "codemirror_mode": {
    "name": "ipython",
    "version": 3
   },
   "file_extension": ".py",
   "mimetype": "text/x-python",
   "name": "python",
   "nbconvert_exporter": "python",
   "pygments_lexer": "ipython3",
   "version": "3.6.7"
  },
  "toc": {
   "base_numbering": 1,
   "nav_menu": {},
   "number_sections": true,
   "sideBar": true,
   "skip_h1_title": false,
   "title_cell": "Table of Contents",
   "title_sidebar": "Contents",
   "toc_cell": false,
   "toc_position": {},
   "toc_section_display": true,
   "toc_window_display": false
  }
 },
 "nbformat": 4,
 "nbformat_minor": 2
}
