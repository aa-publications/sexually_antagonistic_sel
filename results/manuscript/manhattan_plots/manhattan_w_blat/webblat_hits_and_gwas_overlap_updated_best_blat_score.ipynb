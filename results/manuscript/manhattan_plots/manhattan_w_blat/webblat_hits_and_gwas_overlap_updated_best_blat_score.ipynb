{
 "cells": [
  {
   "cell_type": "markdown",
   "metadata": {},
   "source": [
    "# Comparing UKBB and BioVU genome wide hits"
   ]
  },
  {
   "cell_type": "markdown",
   "metadata": {},
   "source": [
    "-manhattan plots   \n",
    "-any shared snps\n"
   ]
  },
  {
   "cell_type": "code",
   "execution_count": 1,
   "metadata": {
    "ExecuteTime": {
     "end_time": "2020-03-11T13:36:52.789339Z",
     "start_time": "2020-03-11T13:36:42.205161Z"
    }
   },
   "outputs": [
    {
     "data": {
      "text/html": [
       "<style>.container {width:98% !important; }</style>"
      ],
      "text/plain": [
       "<IPython.core.display.HTML object>"
      ]
     },
     "metadata": {},
     "output_type": "display_data"
    }
   ],
   "source": [
    "import os, sys\n",
    "import numpy as np\n",
    "import pandas as pd \n",
    "import seaborn as sns\n",
    "import matplotlib.pyplot as plt \n",
    "import matplotlib.colors\n",
    "from datetime import datetime\n",
    "\n",
    "from glob import glob \n",
    "\n",
    "from IPython.core.interactiveshell import InteractiveShell\n",
    "InteractiveShell.ast_node_interactivity = \"all\" \n",
    "from IPython.core.display import display, HTML    \n",
    "display(HTML(\"<style>.container {width:98% !important; }</style>\"))\n",
    "%matplotlib inline \n",
    "np.set_printoptions(precision=5, suppress=True) \n",
    "\n",
    "DATE = datetime.now().strftime('%Y-%m-%d')"
   ]
  },
  {
   "cell_type": "code",
   "execution_count": 2,
   "metadata": {
    "ExecuteTime": {
     "end_time": "2020-03-11T13:36:52.803150Z",
     "start_time": "2020-03-11T13:36:52.796773Z"
    }
   },
   "outputs": [],
   "source": [
    "import matplotlib.font_manager as fm\n",
    "fpath='/dors/capra_lab/users/abraha1/conda/envs/py36_r_ml/lib/python3.6/site-packages/matplotlib/mpl-data/fonts/ttf/Arial.ttf'\n",
    "prop = fm.FontProperties(fname=fpath, size=16)\n",
    "bigprop = fm.FontProperties(fname=fpath, size=20)"
   ]
  },
  {
   "cell_type": "code",
   "execution_count": 3,
   "metadata": {
    "ExecuteTime": {
     "end_time": "2020-03-11T13:36:52.848784Z",
     "start_time": "2020-03-11T13:36:52.808786Z"
    }
   },
   "outputs": [],
   "source": [
    "sys.path.append(\"/dors/capra_lab/users/abraha1/bin/python_modules/assocplots\")\n",
    "from assocplots.manhattan import *"
   ]
  },
  {
   "cell_type": "code",
   "execution_count": 4,
   "metadata": {
    "ExecuteTime": {
     "end_time": "2020-03-11T13:36:55.649590Z",
     "start_time": "2020-03-11T13:36:52.857607Z"
    }
   },
   "outputs": [],
   "source": [
    "import rpy2.rinterface \n",
    "%load_ext rpy2.ipython"
   ]
  },
  {
   "cell_type": "code",
   "execution_count": 5,
   "metadata": {
    "ExecuteTime": {
     "end_time": "2020-03-11T13:36:55.663528Z",
     "start_time": "2020-03-11T13:36:55.657784Z"
    }
   },
   "outputs": [],
   "source": [
    "GWAS_P_THRESH = 5*10**-8\n",
    "SUGG_GWAS_P_THRESH = 1*10**-6\n",
    "MISS_P_THRESHOLD = 0.00001"
   ]
  },
  {
   "cell_type": "code",
   "execution_count": 6,
   "metadata": {
    "ExecuteTime": {
     "end_time": "2020-03-11T13:36:55.703736Z",
     "start_time": "2020-03-11T13:36:55.669383Z"
    }
   },
   "outputs": [],
   "source": [
    "# FILE PATHS \n",
    "BLAT_DIR=\"/dors/capra_lab/users/abraha1/prelim_studies/katja_biobank/data/blat_array_probes/uk_bv_blat_w_assoc_rsID/\"\n",
    "\n",
    "# BLAT: command line \n",
    "BLAT_RSID_UK = '/dors/capra_lab/users/abraha1/prelim_studies/katja_biobank/data/blat_array_probes/ukbb_probes/chrx_y_hits_only_UKBiLEVE_probes_blat.txt'\n",
    "BLAT_RSID_UKW =  \"/dors/capra_lab/users/abraha1/prelim_studies/katja_biobank/data/blat_array_probes/ukbb_probes/chrx_y_hits_only_UKBB_WCSF_probes_blat.txt\"\n",
    "BLAT_RSID_BV =  \"/dors/capra_lab/users/abraha1/prelim_studies/katja_biobank/data/blat_array_probes/biovu_probes/chrx_y_hits_only_MEGAEx_probes_v1_blat.txt\"\n",
    "\n",
    "# WEBBLAT \n",
    "WEBBLAT_UKBIL=\"/dors/capra_lab/users/abraha1/prelim_studies/katja_biobank/data/blat_array_probes/ukbb_probes/web_blat/ukbil_w_score/chrxy_UKBil_probes_webscores.txt\"\n",
    "WEBBLAT_UKWCSF=\"/dors/capra_lab/users/abraha1/prelim_studies/katja_biobank/data/blat_array_probes/ukbb_probes/web_blat/ukwcsf_w_score/chrxy_ukwcsf_probes_webscores.txt\"\n",
    "WEBBLAT_BV=\"/dors/capra_lab/users/abraha1/prelim_studies/katja_biobank/data/blat_array_probes/biovu_probes/blat_psl/chrxy_MEGAx_probes_v1_blat_webscores.txt\"\n",
    "\n",
    "# GWAS SUMMARY STATS \n",
    "GWAS_DIR=\"/dors/capra_lab/users/abraha1/prelim_studies/katja_biobank/\"\n",
    "UK_GWAS_FILE = os.path.join(GWAS_DIR, \"data/assoc_from_katja_2019_08_20/20190819_gwas_pca12_centers_age_FINAL.csv\")\n",
    "BV_GWAS_FILE = os.path.join(GWAS_DIR, \"results/2019_07_21_logistic/2019_07_21_logistic.assoc.logistic\")\n",
    "\n",
    "# OUTPUT \n",
    "OUTPUT_DIR=\"/dors/capra_lab/users/abraha1/prelim_studies/katja_biobank/results/manuscript/manhattan_plots/manhattan_w_blat/\""
   ]
  },
  {
   "cell_type": "markdown",
   "metadata": {},
   "source": [
    "# load "
   ]
  },
  {
   "cell_type": "code",
   "execution_count": 7,
   "metadata": {
    "ExecuteTime": {
     "end_time": "2020-03-11T13:37:12.004516Z",
     "start_time": "2020-03-11T13:36:55.709471Z"
    },
    "scrolled": true
   },
   "outputs": [
    {
     "name": "stdout",
     "output_type": "stream",
     "text": [
      "UKBB: Removed 28,714 out of 648,754 snps with singificant missingness b/w cases and controls.\n"
     ]
    }
   ],
   "source": [
    "# LOAD GWAS HITS \n",
    "raw_uk_df = pd.read_csv( UK_GWAS_FILE, sep=\",\")\n",
    "raw_bv_df = pd.read_csv( BV_GWAS_FILE, sep=\"\\s+\")\n",
    "\n",
    "# format results \n",
    "uk_gwas_df = raw_uk_df.loc[raw_uk_df.missing_p > MISS_P_THRESHOLD].copy() \n",
    "print(\"UKBB: Removed {:,} out of {:,} snps with singificant missingness b/w cases and controls.\".format(raw_uk_df.shape[0] - uk_gwas_df.shape[0], raw_uk_df.shape[0]))\n",
    "uk_gwas_df['chr_pos'] = uk_gwas_df.CHR.map(str) + \":\" + uk_gwas_df.BP.map(str)\n",
    "\n",
    "bv_gwas_df = raw_bv_df.loc[(raw_bv_df.TEST == \"ADD\") & (raw_bv_df.CHR < 23),].copy()\n",
    "bv_gwas_df['chr_pos'] = bv_gwas_df.CHR.map(str) + \":\" + bv_gwas_df.BP.map(str)"
   ]
  },
  {
   "cell_type": "code",
   "execution_count": 8,
   "metadata": {
    "ExecuteTime": {
     "end_time": "2020-03-11T13:37:12.459697Z",
     "start_time": "2020-03-11T13:37:12.011830Z"
    }
   },
   "outputs": [],
   "source": [
    "uk_gwas_df['stat_sig'] = False\n",
    "uk_gwas_df.loc[uk_gwas_df['P']< GWAS_P_THRESH, 'stat_sig'] = True\n",
    "\n",
    "bv_gwas_df['stat_sig'] = False\n",
    "bv_gwas_df.loc[bv_gwas_df['P']< GWAS_P_THRESH, 'stat_sig'] = True"
   ]
  },
  {
   "cell_type": "code",
   "execution_count": 9,
   "metadata": {
    "ExecuteTime": {
     "end_time": "2020-03-11T13:37:27.352134Z",
     "start_time": "2020-03-11T13:37:12.467485Z"
    }
   },
   "outputs": [],
   "source": [
    "# LOAD BLAT HTIS \n",
    "ukbil_blat_df = pd.read_csv(BLAT_RSID_UK, sep=\"\\t\")\n",
    "ukw_blat_df = pd.read_csv(BLAT_RSID_UKW, sep=\"\\t\")\n",
    "bv_blat_df = pd.read_csv(BLAT_RSID_BV, sep=\"\\t\")\n",
    "\n",
    "ukbil_webblat_df = pd.read_csv(WEBBLAT_UKBIL, sep=\"\\t\", names=['targetChr','targetStart','targetEnd','queryName','score','per_identity'])\n",
    "ukwcsf_webblat_df = pd.read_csv(WEBBLAT_UKWCSF, sep=\"\\t\", names=['targetChr','targetStart','targetEnd','queryName','score','per_identity'])\n",
    "bv_webblat_df = pd.read_csv(WEBBLAT_BV, sep=\"\\t\", names=['targetChr','targetStart','targetEnd','queryName','score','per_identity'])"
   ]
  },
  {
   "cell_type": "code",
   "execution_count": 10,
   "metadata": {
    "ExecuteTime": {
     "end_time": "2020-03-11T13:37:43.173864Z",
     "start_time": "2020-03-11T13:37:27.354831Z"
    }
   },
   "outputs": [],
   "source": [
    "# format webblat resutls \n",
    "get_start = lambda x: int(x.split(\":\")[-1].split(\"-\")[0])\n",
    "get_end = lambda x: int(x.split(\":\")[-1].split(\"-\")[1]) \n",
    "\n",
    "\n",
    "# add query start and end \n",
    "ukbil_webblat_df['q.start'] = ukbil_webblat_df.queryName.apply(get_start)\n",
    "ukbil_webblat_df['q.end'] = ukbil_webblat_df.queryName.apply(get_end)\n",
    "\n",
    "ukwcsf_webblat_df['q.start'] = ukwcsf_webblat_df.queryName.apply(get_start)\n",
    "ukwcsf_webblat_df['q.end'] = ukwcsf_webblat_df.queryName.apply(get_end)\n",
    "\n",
    "bv_webblat_df['q.start'] = bv_webblat_df.queryName.apply(get_start)\n",
    "bv_webblat_df['q.end'] = bv_webblat_df.queryName.apply(get_end)\n",
    "\n",
    "# add query length \n",
    "ukbil_blat_df['q.length'] = ukbil_blat_df['q.end'] -ukbil_blat_df['q.start'] +1\n",
    "ukw_blat_df['q.length'] = ukw_blat_df['q.end'] -ukw_blat_df['q.start'] +1\n",
    "bv_blat_df['q.length'] = bv_blat_df['q.end'] -bv_blat_df['q.start'] +1\n",
    "\n",
    "\n",
    "ukbil_webblat_df['q.length'] = ukbil_webblat_df['q.end'] - ukbil_webblat_df['q.start']\n",
    "ukwcsf_webblat_df['q.length'] = ukwcsf_webblat_df['q.end'] -ukwcsf_webblat_df['q.start']\n",
    "bv_webblat_df['q.length'] = bv_webblat_df['q.end'] -bv_webblat_df['q.start']"
   ]
  },
  {
   "cell_type": "code",
   "execution_count": 11,
   "metadata": {
    "ExecuteTime": {
     "end_time": "2020-03-11T13:39:12.823027Z",
     "start_time": "2020-03-11T13:39:05.033120Z"
    }
   },
   "outputs": [],
   "source": [
    "# add bim_mapped_rsID\n",
    "ukbil_blat_df['bim_mapped_rsID'] = ukbil_blat_df.QueryId.apply(lambda x: x.split(',')[-1])\n",
    "ukw_blat_df['bim_mapped_rsID'] = ukw_blat_df.QueryId.apply(lambda x: x.split(',')[-1])\n",
    "bv_blat_df['bim_mapped_rsID'] = bv_blat_df.QueryId.apply(lambda x: x.split(',')[1])\n",
    "\n",
    "ukbil_webblat_df['bim_mapped_rsID'] = ukbil_webblat_df.queryName.apply(lambda x: x.split(',')[-1].split(\":\")[0])\n",
    "ukwcsf_webblat_df['bim_mapped_rsID'] = ukwcsf_webblat_df.queryName.apply(lambda x: x.split(',')[-1].split(\":\")[0])\n",
    "bv_webblat_df['bim_mapped_rsID'] = bv_webblat_df.queryName.apply(lambda x: x.split(',')[1])"
   ]
  },
  {
   "cell_type": "markdown",
   "metadata": {},
   "source": [
    "# quality filter BLAT hits "
   ]
  },
  {
   "cell_type": "code",
   "execution_count": 12,
   "metadata": {
    "ExecuteTime": {
     "end_time": "2020-03-11T13:39:12.833371Z",
     "start_time": "2020-03-11T13:39:12.825955Z"
    }
   },
   "outputs": [],
   "source": [
    "def bv_blat_filter(og_blat_df): \n",
    "    \n",
    "    blat_df = og_blat_df.copy()\n",
    "    \n",
    "    qlength_bool = blat_df['q.length'] >= 40\n",
    "    end_match_bool = blat_df['q.end'] == 50\n",
    "    perID_bool = blat_df['per_identity'] >= 90\n",
    "\n",
    "    blat_df['pass_blat_filters'] = qlength_bool  & end_match_bool & perID_bool\n",
    "\n",
    "    return blat_df, og_blat_df"
   ]
  },
  {
   "cell_type": "code",
   "execution_count": 13,
   "metadata": {
    "ExecuteTime": {
     "end_time": "2020-03-11T13:39:12.864372Z",
     "start_time": "2020-03-11T13:39:12.835554Z"
    }
   },
   "outputs": [],
   "source": [
    "def uk_array_filter(blat_df, webblat=False):\n",
    "    temp_uk_df = blat_df.copy()\n",
    "    \n",
    "    if webblat: \n",
    "        qendt = 35\n",
    "    else:\n",
    "        qendt = 36\n",
    "    \n",
    "    # webblat is 0 start \n",
    "        \n",
    "    uk_qlength_bool = temp_uk_df['q.length'] >= 40\n",
    "    incl_center_bool = (temp_uk_df['q.end'] > qendt) & (temp_uk_df['q.start'] < qendt) \n",
    "    uk_perID_bool = temp_uk_df['per_identity'] >= 90\n",
    "\n",
    "\n",
    "    temp_uk_df['pass_blat_filters'] = uk_qlength_bool  & incl_center_bool & uk_perID_bool\n",
    "    \n",
    "    return temp_uk_df, blat_df\n",
    "\n",
    "\n",
    "# UKBB: \n",
    "#    REQUIRE: at least 40 bp overlap \n",
    "#    REQUIRE: match to the middle of the query \n",
    "#    REQUIRE: 90% per ID"
   ]
  },
  {
   "cell_type": "code",
   "execution_count": 14,
   "metadata": {
    "ExecuteTime": {
     "end_time": "2020-03-11T13:39:15.236702Z",
     "start_time": "2020-03-11T13:39:12.868677Z"
    }
   },
   "outputs": [
    {
     "data": {
      "text/plain": [
       "False    1844895\n",
       "True     1030168\n",
       "Name: pass_blat_filters, dtype: int64"
      ]
     },
     "execution_count": 14,
     "metadata": {},
     "output_type": "execute_result"
    },
    {
     "data": {
      "text/plain": [
       "False    1597535\n",
       "True      376650\n",
       "Name: pass_blat_filters, dtype: int64"
      ]
     },
     "execution_count": 14,
     "metadata": {},
     "output_type": "execute_result"
    },
    {
     "data": {
      "text/plain": [
       "False    1628348\n",
       "True      400126\n",
       "Name: pass_blat_filters, dtype: int64"
      ]
     },
     "execution_count": 14,
     "metadata": {},
     "output_type": "execute_result"
    }
   ],
   "source": [
    "# ---- BLAT WITH WEB SETTINGS ---\n",
    "# FILTER OUT BAD BLAT HITS \n",
    "\n",
    "\n",
    "# BV WEBBLAT \n",
    "bv_webblat_df, all_bv_webblat_df = bv_blat_filter(bv_webblat_df)\n",
    "\n",
    "\n",
    "# UK WEBBLAT \n",
    "ukbil_webblat_df, all_ukbil_webblat_df = uk_array_filter(ukbil_webblat_df, webblat=True)\n",
    "ukwcsf_webblat_df, all_ukwcsf_webblat_df = uk_array_filter(ukwcsf_webblat_df, webblat=True)\n",
    "\n",
    "\n",
    "pd.value_counts(bv_webblat_df.pass_blat_filters)\n",
    "pd.value_counts(ukbil_webblat_df.pass_blat_filters)\n",
    "pd.value_counts(ukwcsf_webblat_df.pass_blat_filters)"
   ]
  },
  {
   "cell_type": "code",
   "execution_count": 15,
   "metadata": {
    "ExecuteTime": {
     "end_time": "2020-03-11T13:39:16.008556Z",
     "start_time": "2020-03-11T13:39:15.241339Z"
    }
   },
   "outputs": [
    {
     "name": "stdout",
     "output_type": "stream",
     "text": [
      "NUMBER OF VARIANTS WITH ≥1 'HIGH QUALITY' X or Y MATCH\n",
      "\n",
      "\n",
      "bv : 57,710 out of 234,450\n",
      "uk bileve:\n"
     ]
    },
    {
     "data": {
      "text/plain": [
       "145876"
      ]
     },
     "execution_count": 15,
     "metadata": {},
     "output_type": "execute_result"
    },
    {
     "data": {
      "text/plain": [
       "33105"
      ]
     },
     "execution_count": 15,
     "metadata": {},
     "output_type": "execute_result"
    },
    {
     "name": "stdout",
     "output_type": "stream",
     "text": [
      "ukwcsf:\n"
     ]
    },
    {
     "data": {
      "text/plain": [
       "148427"
      ]
     },
     "execution_count": 15,
     "metadata": {},
     "output_type": "execute_result"
    },
    {
     "data": {
      "text/plain": [
       "33634"
      ]
     },
     "execution_count": 15,
     "metadata": {},
     "output_type": "execute_result"
    }
   ],
   "source": [
    "# number of variants that have ≥1 X or Y hit that pass the above threshold \n",
    "\n",
    "print(\"NUMBER OF VARIANTS WITH ≥1 'HIGH QUALITY' X or Y MATCH\")\n",
    "print(\"\\n\")\n",
    "print(\"bv : {:,} out of {:,}\".format(bv_webblat_df.loc[bv_webblat_df['pass_blat_filters']==True, 'bim_mapped_rsID'].nunique(),\n",
    "                                     bv_webblat_df.bim_mapped_rsID.nunique()))\n",
    "\n",
    "# uk bileve \n",
    "print(\"uk bileve:\")\n",
    "ukbil_webblat_df.bim_mapped_rsID.nunique()\n",
    "ukbil_webblat_df.loc[ukbil_webblat_df['pass_blat_filters']==True, 'bim_mapped_rsID'].nunique()\n",
    "\n",
    "print(\"ukwcsf:\")\n",
    "ukwcsf_webblat_df.bim_mapped_rsID.nunique()\n",
    "ukwcsf_webblat_df.loc[ukwcsf_webblat_df['pass_blat_filters']==True, 'bim_mapped_rsID'].nunique()\n"
   ]
  },
  {
   "cell_type": "code",
   "execution_count": 16,
   "metadata": {
    "ExecuteTime": {
     "end_time": "2020-03-11T13:39:16.716417Z",
     "start_time": "2020-03-11T13:39:16.011132Z"
    }
   },
   "outputs": [
    {
     "data": {
      "text/plain": [
       "True     505313\n",
       "False    421999\n",
       "Name: pass_blat_filters, dtype: int64"
      ]
     },
     "execution_count": 16,
     "metadata": {},
     "output_type": "execute_result"
    },
    {
     "data": {
      "text/plain": [
       "False    222075\n",
       "True     101621\n",
       "Name: pass_blat_filters, dtype: int64"
      ]
     },
     "execution_count": 16,
     "metadata": {},
     "output_type": "execute_result"
    },
    {
     "data": {
      "text/plain": [
       "False    227283\n",
       "True     111250\n",
       "Name: pass_blat_filters, dtype: int64"
      ]
     },
     "execution_count": 16,
     "metadata": {},
     "output_type": "execute_result"
    }
   ],
   "source": [
    "# BV COMMAND LINE BLAT \n",
    "bv_blat_df, _ = bv_blat_filter(bv_blat_df)\n",
    "\n",
    "# UK COMMAND LINE BLAT \n",
    "ukbil_blat_df, _  = uk_array_filter(ukbil_blat_df)\n",
    "ukw_blat_df, _  = uk_array_filter(ukw_blat_df)\n",
    "\n",
    "pd.value_counts(bv_blat_df.pass_blat_filters)\n",
    "pd.value_counts(ukbil_blat_df.pass_blat_filters)\n",
    "pd.value_counts(ukw_blat_df.pass_blat_filters)"
   ]
  },
  {
   "cell_type": "code",
   "execution_count": 17,
   "metadata": {
    "ExecuteTime": {
     "end_time": "2020-03-11T13:39:16.731078Z",
     "start_time": "2020-03-11T13:39:16.722616Z"
    }
   },
   "outputs": [],
   "source": [
    "# pick best BLAT hit per SNP tested \n",
    "def pick_best_blat(blat_df, blat_filter=True): \n",
    "    temp_blat_df = blat_df.copy()\n",
    "    \n",
    "    \n",
    "    if blat_filter: \n",
    "        good_blat_hits = temp_blat_df.loc[temp_blat_df['pass_blat_filters']==True].reset_index(drop=True)\n",
    "    else: \n",
    "        good_blat_hits = temp_blat_df.reset_index(drop=True)\n",
    "        \n",
    "    best_df = good_blat_hits.loc[good_blat_hits.groupby('bim_mapped_rsID')['per_identity'].idxmax()].reset_index(drop=True)\n",
    "    \n",
    "    return best_df"
   ]
  },
  {
   "cell_type": "code",
   "execution_count": 18,
   "metadata": {
    "ExecuteTime": {
     "end_time": "2020-03-11T13:41:56.611502Z",
     "start_time": "2020-03-11T13:39:16.737104Z"
    }
   },
   "outputs": [],
   "source": [
    "# PICK THE BEST BLAT HIT \n",
    "\n",
    "# pool both uk arrays \n",
    "both_uk_blat_df = pd.concat([ukbil_blat_df, ukw_blat_df], axis=0)\n",
    "both_uk_webblat_df = pd.concat([ukbil_webblat_df, ukwcsf_webblat_df],axis=0)\n",
    "\n",
    "#\n",
    "# Command line Blat \n",
    "#\n",
    "\n",
    "# filter and keep only best BLAT hits \n",
    "uk_best_blast_df = pick_best_blat(both_uk_blat_df)\n",
    "bv_best_blast_df = pick_best_blat(bv_blat_df)\n",
    "\n",
    "# don't filter BLAT hits... \n",
    "uk_no_filt_best_blast_df = pick_best_blat(both_uk_blat_df, blat_filter=False)\n",
    "bv_no_filt_best_blast_df = pick_best_blat(bv_blat_df, blat_filter=False)\n",
    "\n",
    "#\n",
    "# WEBBLAT \n",
    "#\n",
    "\n",
    "uk_best_webblast_df = pick_best_blat(both_uk_webblat_df)\n",
    "bv_best_webblast_df = pick_best_blat(bv_webblat_df)\n",
    "\n",
    "uk_no_filt_best_webblast_df = pick_best_blat(both_uk_webblat_df, blat_filter=False)\n",
    "bv_no_filt_best_webblast_df = pick_best_blat(bv_webblat_df, blat_filter=False)"
   ]
  },
  {
   "cell_type": "code",
   "execution_count": 19,
   "metadata": {
    "ExecuteTime": {
     "end_time": "2020-03-11T13:41:56.804893Z",
     "start_time": "2020-03-11T13:41:56.615062Z"
    }
   },
   "outputs": [
    {
     "name": "stdout",
     "output_type": "stream",
     "text": [
      "UK: \n"
     ]
    },
    {
     "data": {
      "text/plain": [
       "8"
      ]
     },
     "execution_count": 19,
     "metadata": {},
     "output_type": "execute_result"
    },
    {
     "data": {
      "text/plain": [
       "(4, 15)"
      ]
     },
     "execution_count": 19,
     "metadata": {},
     "output_type": "execute_result"
    },
    {
     "data": {
      "text/plain": [
       "(6, 15)"
      ]
     },
     "execution_count": 19,
     "metadata": {},
     "output_type": "execute_result"
    },
    {
     "data": {
      "text/plain": [
       "(7, 11)"
      ]
     },
     "execution_count": 19,
     "metadata": {},
     "output_type": "execute_result"
    },
    {
     "data": {
      "text/plain": [
       "(8, 11)"
      ]
     },
     "execution_count": 19,
     "metadata": {},
     "output_type": "execute_result"
    },
    {
     "name": "stdout",
     "output_type": "stream",
     "text": [
      "BV: \n"
     ]
    },
    {
     "data": {
      "text/plain": [
       "5"
      ]
     },
     "execution_count": 19,
     "metadata": {},
     "output_type": "execute_result"
    },
    {
     "data": {
      "text/plain": [
       "(2, 15)"
      ]
     },
     "execution_count": 19,
     "metadata": {},
     "output_type": "execute_result"
    },
    {
     "data": {
      "text/plain": [
       "(2, 15)"
      ]
     },
     "execution_count": 19,
     "metadata": {},
     "output_type": "execute_result"
    },
    {
     "data": {
      "text/plain": [
       "(5, 11)"
      ]
     },
     "execution_count": 19,
     "metadata": {},
     "output_type": "execute_result"
    },
    {
     "data": {
      "text/plain": [
       "(5, 11)"
      ]
     },
     "execution_count": 19,
     "metadata": {},
     "output_type": "execute_result"
    }
   ],
   "source": [
    "# check the number of X and Y hits before filtering w/ BLAT criteria \n",
    "uk_sig_snps = uk_gwas_df.loc[uk_gwas_df['stat_sig']==True, 'SNP'].values\n",
    "bv_sig_snps = bv_gwas_df.loc[bv_gwas_df['stat_sig']==True, 'SNP'].values\n",
    "\n",
    "print(\"UK: \")\n",
    "len(uk_sig_snps)\n",
    "uk_best_blast_df[uk_best_blast_df.bim_mapped_rsID.isin(uk_sig_snps)].shape\n",
    "uk_no_filt_best_blast_df[uk_no_filt_best_blast_df.bim_mapped_rsID.isin(uk_sig_snps)].shape\n",
    "\n",
    "uk_best_webblast_df[uk_best_webblast_df.bim_mapped_rsID.isin(uk_sig_snps)].shape\n",
    "uk_no_filt_best_webblast_df[uk_no_filt_best_webblast_df.bim_mapped_rsID.isin(uk_sig_snps)].shape\n",
    "\n",
    "print(\"BV: \")\n",
    "len(bv_sig_snps)\n",
    "bv_best_blast_df[bv_best_blast_df.bim_mapped_rsID.isin(bv_sig_snps)].shape\n",
    "bv_no_filt_best_blast_df[bv_no_filt_best_blast_df.bim_mapped_rsID.isin(bv_sig_snps)].shape\n",
    "\n",
    "bv_best_webblast_df[bv_best_webblast_df.bim_mapped_rsID.isin(bv_sig_snps)].shape\n",
    "bv_no_filt_best_webblast_df[bv_no_filt_best_webblast_df.bim_mapped_rsID.isin(bv_sig_snps)].shape\n"
   ]
  },
  {
   "cell_type": "markdown",
   "metadata": {},
   "source": [
    "# merge blat hits with association hits"
   ]
  },
  {
   "cell_type": "code",
   "execution_count": 20,
   "metadata": {
    "ExecuteTime": {
     "end_time": "2020-03-11T13:41:56.816320Z",
     "start_time": "2020-03-11T13:41:56.807543Z"
    }
   },
   "outputs": [],
   "source": [
    "def merge_blat_and_gwas(blat_df , gwas_df):\n",
    "    # merge UKBB gwas with BLAT hits\n",
    "    to_merge_df = blat_df.copy()\n",
    "    to_merge_df['target_Start-End'] = to_merge_df.targetStart.map(str) + \"-\" + to_merge_df.targetEnd.map(str)\n",
    "    to_merge_df['query_Start-End'] = to_merge_df['q.start'].map(str) + \"-\" + to_merge_df['q.end'].map(str)\n",
    "    keep_cols = ['targetChr','target_Start-End', 'per_identity','query_Start-End', 'q.length','bim_mapped_rsID','pass_blat_filters']\n",
    "\n",
    "    merged_df = pd.merge(gwas_df, to_merge_df.loc[:, keep_cols], left_on = \"SNP\", right_on=\"bim_mapped_rsID\", how='left')\n",
    "    \n",
    "    print(f\"Out of {blat_df.bim_mapped_rsID.nunique():,} SNPs with X or Y hits,\")\n",
    "    print(f\"{(~merged_df.bim_mapped_rsID.isna()).sum():,}, SNPs in the GWAS summary stats were mapped.\")\n",
    "    \n",
    "    return merged_df"
   ]
  },
  {
   "cell_type": "code",
   "execution_count": 21,
   "metadata": {
    "ExecuteTime": {
     "end_time": "2020-03-11T13:41:58.839299Z",
     "start_time": "2020-03-11T13:41:56.818616Z"
    }
   },
   "outputs": [
    {
     "name": "stdout",
     "output_type": "stream",
     "text": [
      "Out of 34,606 SNPs with X or Y hits,\n",
      "28,555, SNPs in the GWAS summary stats were mapped.\n",
      "--\n",
      "Out of 57,710 SNPs with X or Y hits,\n",
      "4,994, SNPs in the GWAS summary stats were mapped.\n"
     ]
    }
   ],
   "source": [
    "uk_gwas_blat_df = merge_blat_and_gwas(uk_best_webblast_df, uk_gwas_df)\n",
    "print(\"--\")\n",
    "bv_gwas_blat_df = merge_blat_and_gwas(bv_best_webblast_df, bv_gwas_df)"
   ]
  },
  {
   "cell_type": "code",
   "execution_count": 22,
   "metadata": {
    "ExecuteTime": {
     "end_time": "2020-03-11T13:41:58.880371Z",
     "start_time": "2020-03-11T13:41:58.843445Z"
    }
   },
   "outputs": [
    {
     "data": {
      "text/plain": [
       "(620040, 12)"
      ]
     },
     "execution_count": 22,
     "metadata": {},
     "output_type": "execute_result"
    },
    {
     "data": {
      "text/plain": [
       "(798051, 11)"
      ]
     },
     "execution_count": 22,
     "metadata": {},
     "output_type": "execute_result"
    },
    {
     "data": {
      "text/html": [
       "<div>\n",
       "<style scoped>\n",
       "    .dataframe tbody tr th:only-of-type {\n",
       "        vertical-align: middle;\n",
       "    }\n",
       "\n",
       "    .dataframe tbody tr th {\n",
       "        vertical-align: top;\n",
       "    }\n",
       "\n",
       "    .dataframe thead th {\n",
       "        text-align: right;\n",
       "    }\n",
       "</style>\n",
       "<table border=\"1\" class=\"dataframe\">\n",
       "  <thead>\n",
       "    <tr style=\"text-align: right;\">\n",
       "      <th></th>\n",
       "      <th>CHR</th>\n",
       "      <th>SNP</th>\n",
       "      <th>BP</th>\n",
       "      <th>A1</th>\n",
       "      <th>TEST</th>\n",
       "      <th>NMISS</th>\n",
       "      <th>OR</th>\n",
       "      <th>STAT</th>\n",
       "      <th>P</th>\n",
       "      <th>missing_p</th>\n",
       "      <th>chr_pos</th>\n",
       "      <th>stat_sig</th>\n",
       "      <th>targetChr</th>\n",
       "      <th>target_Start-End</th>\n",
       "      <th>per_identity</th>\n",
       "      <th>query_Start-End</th>\n",
       "      <th>q.length</th>\n",
       "      <th>bim_mapped_rsID</th>\n",
       "      <th>pass_blat_filters</th>\n",
       "    </tr>\n",
       "  </thead>\n",
       "  <tbody>\n",
       "    <tr>\n",
       "      <th>0</th>\n",
       "      <td>1</td>\n",
       "      <td>rs116587930</td>\n",
       "      <td>727841</td>\n",
       "      <td>A</td>\n",
       "      <td>ADD</td>\n",
       "      <td>429902</td>\n",
       "      <td>1.0020</td>\n",
       "      <td>0.1803</td>\n",
       "      <td>0.85690</td>\n",
       "      <td>0.225600</td>\n",
       "      <td>1:727841</td>\n",
       "      <td>False</td>\n",
       "      <td>NaN</td>\n",
       "      <td>NaN</td>\n",
       "      <td>NaN</td>\n",
       "      <td>NaN</td>\n",
       "      <td>NaN</td>\n",
       "      <td>NaN</td>\n",
       "      <td>NaN</td>\n",
       "    </tr>\n",
       "    <tr>\n",
       "      <th>1</th>\n",
       "      <td>1</td>\n",
       "      <td>rs116720794</td>\n",
       "      <td>729632</td>\n",
       "      <td>T</td>\n",
       "      <td>ADD</td>\n",
       "      <td>456494</td>\n",
       "      <td>0.9791</td>\n",
       "      <td>-1.8780</td>\n",
       "      <td>0.06035</td>\n",
       "      <td>0.002207</td>\n",
       "      <td>1:729632</td>\n",
       "      <td>False</td>\n",
       "      <td>NaN</td>\n",
       "      <td>NaN</td>\n",
       "      <td>NaN</td>\n",
       "      <td>NaN</td>\n",
       "      <td>NaN</td>\n",
       "      <td>NaN</td>\n",
       "      <td>NaN</td>\n",
       "    </tr>\n",
       "    <tr>\n",
       "      <th>2</th>\n",
       "      <td>1</td>\n",
       "      <td>rs3131972</td>\n",
       "      <td>752721</td>\n",
       "      <td>A</td>\n",
       "      <td>ADD</td>\n",
       "      <td>475137</td>\n",
       "      <td>1.0030</td>\n",
       "      <td>0.5309</td>\n",
       "      <td>0.59550</td>\n",
       "      <td>0.299300</td>\n",
       "      <td>1:752721</td>\n",
       "      <td>False</td>\n",
       "      <td>NaN</td>\n",
       "      <td>NaN</td>\n",
       "      <td>NaN</td>\n",
       "      <td>NaN</td>\n",
       "      <td>NaN</td>\n",
       "      <td>NaN</td>\n",
       "      <td>NaN</td>\n",
       "    </tr>\n",
       "    <tr>\n",
       "      <th>3</th>\n",
       "      <td>1</td>\n",
       "      <td>rs12184325</td>\n",
       "      <td>754105</td>\n",
       "      <td>T</td>\n",
       "      <td>ADD</td>\n",
       "      <td>477138</td>\n",
       "      <td>0.9850</td>\n",
       "      <td>-1.3720</td>\n",
       "      <td>0.17000</td>\n",
       "      <td>0.725300</td>\n",
       "      <td>1:754105</td>\n",
       "      <td>False</td>\n",
       "      <td>NaN</td>\n",
       "      <td>NaN</td>\n",
       "      <td>NaN</td>\n",
       "      <td>NaN</td>\n",
       "      <td>NaN</td>\n",
       "      <td>NaN</td>\n",
       "      <td>NaN</td>\n",
       "    </tr>\n",
       "    <tr>\n",
       "      <th>4</th>\n",
       "      <td>1</td>\n",
       "      <td>rs3131962</td>\n",
       "      <td>756604</td>\n",
       "      <td>A</td>\n",
       "      <td>ADD</td>\n",
       "      <td>476739</td>\n",
       "      <td>1.0060</td>\n",
       "      <td>0.9662</td>\n",
       "      <td>0.33390</td>\n",
       "      <td>0.786000</td>\n",
       "      <td>1:756604</td>\n",
       "      <td>False</td>\n",
       "      <td>NaN</td>\n",
       "      <td>NaN</td>\n",
       "      <td>NaN</td>\n",
       "      <td>NaN</td>\n",
       "      <td>NaN</td>\n",
       "      <td>NaN</td>\n",
       "      <td>NaN</td>\n",
       "    </tr>\n",
       "  </tbody>\n",
       "</table>\n",
       "</div>"
      ],
      "text/plain": [
       "   CHR          SNP      BP A1 TEST   NMISS      OR    STAT        P  \\\n",
       "0    1  rs116587930  727841  A  ADD  429902  1.0020  0.1803  0.85690   \n",
       "1    1  rs116720794  729632  T  ADD  456494  0.9791 -1.8780  0.06035   \n",
       "2    1    rs3131972  752721  A  ADD  475137  1.0030  0.5309  0.59550   \n",
       "3    1   rs12184325  754105  T  ADD  477138  0.9850 -1.3720  0.17000   \n",
       "4    1    rs3131962  756604  A  ADD  476739  1.0060  0.9662  0.33390   \n",
       "\n",
       "   missing_p   chr_pos  stat_sig targetChr target_Start-End  per_identity  \\\n",
       "0   0.225600  1:727841     False       NaN              NaN           NaN   \n",
       "1   0.002207  1:729632     False       NaN              NaN           NaN   \n",
       "2   0.299300  1:752721     False       NaN              NaN           NaN   \n",
       "3   0.725300  1:754105     False       NaN              NaN           NaN   \n",
       "4   0.786000  1:756604     False       NaN              NaN           NaN   \n",
       "\n",
       "  query_Start-End  q.length bim_mapped_rsID pass_blat_filters  \n",
       "0             NaN       NaN             NaN               NaN  \n",
       "1             NaN       NaN             NaN               NaN  \n",
       "2             NaN       NaN             NaN               NaN  \n",
       "3             NaN       NaN             NaN               NaN  \n",
       "4             NaN       NaN             NaN               NaN  "
      ]
     },
     "execution_count": 22,
     "metadata": {},
     "output_type": "execute_result"
    },
    {
     "data": {
      "text/plain": [
       "(798051, 18)"
      ]
     },
     "execution_count": 22,
     "metadata": {},
     "output_type": "execute_result"
    }
   ],
   "source": [
    "uk_gwas_df.shape\n",
    "bv_gwas_df.shape\n",
    "\n",
    "uk_gwas_blat_df.head()\n",
    "bv_gwas_blat_df.shape"
   ]
  },
  {
   "cell_type": "markdown",
   "metadata": {},
   "source": [
    "## merge blat hits with snps with high missingness rate between casses and controls"
   ]
  },
  {
   "cell_type": "code",
   "execution_count": 23,
   "metadata": {
    "ExecuteTime": {
     "end_time": "2020-03-11T13:41:58.913125Z",
     "start_time": "2020-03-11T13:41:58.884980Z"
    }
   },
   "outputs": [
    {
     "data": {
      "text/html": [
       "<div>\n",
       "<style scoped>\n",
       "    .dataframe tbody tr th:only-of-type {\n",
       "        vertical-align: middle;\n",
       "    }\n",
       "\n",
       "    .dataframe tbody tr th {\n",
       "        vertical-align: top;\n",
       "    }\n",
       "\n",
       "    .dataframe thead th {\n",
       "        text-align: right;\n",
       "    }\n",
       "</style>\n",
       "<table border=\"1\" class=\"dataframe\">\n",
       "  <thead>\n",
       "    <tr style=\"text-align: right;\">\n",
       "      <th></th>\n",
       "      <th>CHR</th>\n",
       "      <th>SNP</th>\n",
       "      <th>BP</th>\n",
       "      <th>A1</th>\n",
       "      <th>TEST</th>\n",
       "      <th>NMISS</th>\n",
       "      <th>OR</th>\n",
       "      <th>STAT</th>\n",
       "      <th>P</th>\n",
       "      <th>missing_p</th>\n",
       "      <th>chr_pos</th>\n",
       "      <th>stat_sig</th>\n",
       "    </tr>\n",
       "  </thead>\n",
       "  <tbody>\n",
       "    <tr>\n",
       "      <th>0</th>\n",
       "      <td>1</td>\n",
       "      <td>rs116587930</td>\n",
       "      <td>727841</td>\n",
       "      <td>A</td>\n",
       "      <td>ADD</td>\n",
       "      <td>429902</td>\n",
       "      <td>1.0020</td>\n",
       "      <td>0.1803</td>\n",
       "      <td>0.85690</td>\n",
       "      <td>0.225600</td>\n",
       "      <td>1:727841</td>\n",
       "      <td>False</td>\n",
       "    </tr>\n",
       "    <tr>\n",
       "      <th>1</th>\n",
       "      <td>1</td>\n",
       "      <td>rs116720794</td>\n",
       "      <td>729632</td>\n",
       "      <td>T</td>\n",
       "      <td>ADD</td>\n",
       "      <td>456494</td>\n",
       "      <td>0.9791</td>\n",
       "      <td>-1.8780</td>\n",
       "      <td>0.06035</td>\n",
       "      <td>0.002207</td>\n",
       "      <td>1:729632</td>\n",
       "      <td>False</td>\n",
       "    </tr>\n",
       "    <tr>\n",
       "      <th>2</th>\n",
       "      <td>1</td>\n",
       "      <td>rs3131972</td>\n",
       "      <td>752721</td>\n",
       "      <td>A</td>\n",
       "      <td>ADD</td>\n",
       "      <td>475137</td>\n",
       "      <td>1.0030</td>\n",
       "      <td>0.5309</td>\n",
       "      <td>0.59550</td>\n",
       "      <td>0.299300</td>\n",
       "      <td>1:752721</td>\n",
       "      <td>False</td>\n",
       "    </tr>\n",
       "    <tr>\n",
       "      <th>3</th>\n",
       "      <td>1</td>\n",
       "      <td>rs12184325</td>\n",
       "      <td>754105</td>\n",
       "      <td>T</td>\n",
       "      <td>ADD</td>\n",
       "      <td>477138</td>\n",
       "      <td>0.9850</td>\n",
       "      <td>-1.3720</td>\n",
       "      <td>0.17000</td>\n",
       "      <td>0.725300</td>\n",
       "      <td>1:754105</td>\n",
       "      <td>False</td>\n",
       "    </tr>\n",
       "    <tr>\n",
       "      <th>4</th>\n",
       "      <td>1</td>\n",
       "      <td>rs3131962</td>\n",
       "      <td>756604</td>\n",
       "      <td>A</td>\n",
       "      <td>ADD</td>\n",
       "      <td>476739</td>\n",
       "      <td>1.0060</td>\n",
       "      <td>0.9662</td>\n",
       "      <td>0.33390</td>\n",
       "      <td>0.786000</td>\n",
       "      <td>1:756604</td>\n",
       "      <td>False</td>\n",
       "    </tr>\n",
       "  </tbody>\n",
       "</table>\n",
       "</div>"
      ],
      "text/plain": [
       "   CHR          SNP      BP A1 TEST   NMISS      OR    STAT        P  \\\n",
       "0    1  rs116587930  727841  A  ADD  429902  1.0020  0.1803  0.85690   \n",
       "1    1  rs116720794  729632  T  ADD  456494  0.9791 -1.8780  0.06035   \n",
       "2    1    rs3131972  752721  A  ADD  475137  1.0030  0.5309  0.59550   \n",
       "3    1   rs12184325  754105  T  ADD  477138  0.9850 -1.3720  0.17000   \n",
       "4    1    rs3131962  756604  A  ADD  476739  1.0060  0.9662  0.33390   \n",
       "\n",
       "   missing_p   chr_pos  stat_sig  \n",
       "0   0.225600  1:727841     False  \n",
       "1   0.002207  1:729632     False  \n",
       "2   0.299300  1:752721     False  \n",
       "3   0.725300  1:754105     False  \n",
       "4   0.786000  1:756604     False  "
      ]
     },
     "execution_count": 23,
     "metadata": {},
     "output_type": "execute_result"
    }
   ],
   "source": [
    "uk_gwas_df.head()"
   ]
  },
  {
   "cell_type": "code",
   "execution_count": 24,
   "metadata": {
    "ExecuteTime": {
     "end_time": "2020-03-11T13:41:58.944339Z",
     "start_time": "2020-03-11T13:41:58.916025Z"
    }
   },
   "outputs": [
    {
     "data": {
      "text/html": [
       "<div>\n",
       "<style scoped>\n",
       "    .dataframe tbody tr th:only-of-type {\n",
       "        vertical-align: middle;\n",
       "    }\n",
       "\n",
       "    .dataframe tbody tr th {\n",
       "        vertical-align: top;\n",
       "    }\n",
       "\n",
       "    .dataframe thead th {\n",
       "        text-align: right;\n",
       "    }\n",
       "</style>\n",
       "<table border=\"1\" class=\"dataframe\">\n",
       "  <thead>\n",
       "    <tr style=\"text-align: right;\">\n",
       "      <th></th>\n",
       "      <th>CHR</th>\n",
       "      <th>SNP</th>\n",
       "      <th>BP</th>\n",
       "      <th>A1</th>\n",
       "      <th>TEST</th>\n",
       "      <th>NMISS</th>\n",
       "      <th>OR</th>\n",
       "      <th>STAT</th>\n",
       "      <th>P</th>\n",
       "      <th>missing_p</th>\n",
       "    </tr>\n",
       "  </thead>\n",
       "  <tbody>\n",
       "    <tr>\n",
       "      <th>0</th>\n",
       "      <td>1</td>\n",
       "      <td>rs116587930</td>\n",
       "      <td>727841</td>\n",
       "      <td>A</td>\n",
       "      <td>ADD</td>\n",
       "      <td>429902</td>\n",
       "      <td>1.0020</td>\n",
       "      <td>0.1803</td>\n",
       "      <td>0.85690</td>\n",
       "      <td>0.225600</td>\n",
       "    </tr>\n",
       "    <tr>\n",
       "      <th>1</th>\n",
       "      <td>1</td>\n",
       "      <td>rs116720794</td>\n",
       "      <td>729632</td>\n",
       "      <td>T</td>\n",
       "      <td>ADD</td>\n",
       "      <td>456494</td>\n",
       "      <td>0.9791</td>\n",
       "      <td>-1.8780</td>\n",
       "      <td>0.06035</td>\n",
       "      <td>0.002207</td>\n",
       "    </tr>\n",
       "    <tr>\n",
       "      <th>2</th>\n",
       "      <td>1</td>\n",
       "      <td>rs3131972</td>\n",
       "      <td>752721</td>\n",
       "      <td>A</td>\n",
       "      <td>ADD</td>\n",
       "      <td>475137</td>\n",
       "      <td>1.0030</td>\n",
       "      <td>0.5309</td>\n",
       "      <td>0.59550</td>\n",
       "      <td>0.299300</td>\n",
       "    </tr>\n",
       "    <tr>\n",
       "      <th>3</th>\n",
       "      <td>1</td>\n",
       "      <td>rs12184325</td>\n",
       "      <td>754105</td>\n",
       "      <td>T</td>\n",
       "      <td>ADD</td>\n",
       "      <td>477138</td>\n",
       "      <td>0.9850</td>\n",
       "      <td>-1.3720</td>\n",
       "      <td>0.17000</td>\n",
       "      <td>0.725300</td>\n",
       "    </tr>\n",
       "    <tr>\n",
       "      <th>4</th>\n",
       "      <td>1</td>\n",
       "      <td>rs3131962</td>\n",
       "      <td>756604</td>\n",
       "      <td>A</td>\n",
       "      <td>ADD</td>\n",
       "      <td>476739</td>\n",
       "      <td>1.0060</td>\n",
       "      <td>0.9662</td>\n",
       "      <td>0.33390</td>\n",
       "      <td>0.786000</td>\n",
       "    </tr>\n",
       "  </tbody>\n",
       "</table>\n",
       "</div>"
      ],
      "text/plain": [
       "   CHR          SNP      BP A1 TEST   NMISS      OR    STAT        P  \\\n",
       "0    1  rs116587930  727841  A  ADD  429902  1.0020  0.1803  0.85690   \n",
       "1    1  rs116720794  729632  T  ADD  456494  0.9791 -1.8780  0.06035   \n",
       "2    1    rs3131972  752721  A  ADD  475137  1.0030  0.5309  0.59550   \n",
       "3    1   rs12184325  754105  T  ADD  477138  0.9850 -1.3720  0.17000   \n",
       "4    1    rs3131962  756604  A  ADD  476739  1.0060  0.9662  0.33390   \n",
       "\n",
       "   missing_p  \n",
       "0   0.225600  \n",
       "1   0.002207  \n",
       "2   0.299300  \n",
       "3   0.725300  \n",
       "4   0.786000  "
      ]
     },
     "execution_count": 24,
     "metadata": {},
     "output_type": "execute_result"
    }
   ],
   "source": [
    "raw_uk_df.head()\n",
    "\n",
    "uk_missingness_df= raw_uk_df.loc[ (raw_uk_df['missing_p']<MISS_P_THRESHOLD) & (raw_uk_df['P']<GWAS_P_THRESH) ].copy()\n",
    "uk_missingness_df.loc[uk_missingness_df['P']< GWAS_P_THRESH, 'stat_sig'] = True\n",
    "uk_missingness_df['chr_pos'] = uk_missingness_df.CHR.map(str) + \":\" + uk_missingness_df.BP.map(str)"
   ]
  },
  {
   "cell_type": "code",
   "execution_count": 25,
   "metadata": {
    "ExecuteTime": {
     "end_time": "2020-03-11T13:41:59.072311Z",
     "start_time": "2020-03-11T13:41:58.945896Z"
    }
   },
   "outputs": [
    {
     "name": "stdout",
     "output_type": "stream",
     "text": [
      "Out of 34,606 SNPs with X or Y hits,\n",
      "38, SNPs in the GWAS summary stats were mapped.\n"
     ]
    }
   ],
   "source": [
    "uk_gwas_misssingness_blat_df = merge_blat_and_gwas(uk_best_webblast_df, uk_missingness_df)"
   ]
  },
  {
   "cell_type": "code",
   "execution_count": 26,
   "metadata": {
    "ExecuteTime": {
     "end_time": "2020-03-11T13:41:59.083500Z",
     "start_time": "2020-03-11T13:41:59.074457Z"
    }
   },
   "outputs": [
    {
     "data": {
      "text/plain": [
       "38"
      ]
     },
     "execution_count": 26,
     "metadata": {},
     "output_type": "execute_result"
    }
   ],
   "source": [
    "uk_gwas_misssingness_blat_df.loc[uk_gwas_misssingness_blat_df['pass_blat_filters']==True].SNP.nunique()"
   ]
  },
  {
   "cell_type": "code",
   "execution_count": 27,
   "metadata": {
    "ExecuteTime": {
     "end_time": "2020-03-11T13:41:59.092191Z",
     "start_time": "2020-03-11T13:41:59.086078Z"
    }
   },
   "outputs": [],
   "source": [
    "uk_gwas_misssingness_blat_df.drop(columns=['CHR','BP','TEST','STAT','stat_sig','bim_mapped_rsID'], inplace=True)"
   ]
  },
  {
   "cell_type": "code",
   "execution_count": 45,
   "metadata": {
    "ExecuteTime": {
     "end_time": "2020-03-02T03:17:29.951862Z",
     "start_time": "2020-03-02T03:17:29.945214Z"
    }
   },
   "outputs": [],
   "source": [
    "uk_gwas_misssingness_blat_df.sort_values('pass_blat_filters', inplace=True)"
   ]
  },
  {
   "cell_type": "code",
   "execution_count": 46,
   "metadata": {
    "ExecuteTime": {
     "end_time": "2020-03-02T03:18:46.880138Z",
     "start_time": "2020-03-02T03:18:46.819098Z"
    }
   },
   "outputs": [],
   "source": [
    "write_out=\"/dors/capra_lab/users/abraha1/prelim_studies/katja_biobank/results/manuscript/tables/ukbb_snps_w_differential_missingness_and_blat_to_x_y.tsv\"\n",
    "uk_gwas_misssingness_blat_df.to_csv(write_out, sep=\"\\t\",index=False)"
   ]
  },
  {
   "cell_type": "markdown",
   "metadata": {},
   "source": [
    "# plot of BLAT hits"
   ]
  },
  {
   "cell_type": "code",
   "execution_count": 41,
   "metadata": {
    "ExecuteTime": {
     "end_time": "2020-01-29T20:30:53.294534Z",
     "start_time": "2020-01-29T20:30:52.738164Z"
    }
   },
   "outputs": [
    {
     "data": {
      "text/html": [
       "<div>\n",
       "<style scoped>\n",
       "    .dataframe tbody tr th:only-of-type {\n",
       "        vertical-align: middle;\n",
       "    }\n",
       "\n",
       "    .dataframe tbody tr th {\n",
       "        vertical-align: top;\n",
       "    }\n",
       "\n",
       "    .dataframe thead th {\n",
       "        text-align: right;\n",
       "    }\n",
       "</style>\n",
       "<table border=\"1\" class=\"dataframe\">\n",
       "  <thead>\n",
       "    <tr style=\"text-align: right;\">\n",
       "      <th></th>\n",
       "      <th>CHR</th>\n",
       "      <th>SNP</th>\n",
       "      <th>BP</th>\n",
       "      <th>A1</th>\n",
       "      <th>TEST</th>\n",
       "      <th>NMISS</th>\n",
       "      <th>OR</th>\n",
       "      <th>STAT</th>\n",
       "      <th>P</th>\n",
       "      <th>missing_p</th>\n",
       "      <th>chr_pos</th>\n",
       "      <th>stat_sig</th>\n",
       "    </tr>\n",
       "  </thead>\n",
       "  <tbody>\n",
       "    <tr>\n",
       "      <th>0</th>\n",
       "      <td>1</td>\n",
       "      <td>rs116587930</td>\n",
       "      <td>727841</td>\n",
       "      <td>A</td>\n",
       "      <td>ADD</td>\n",
       "      <td>429902</td>\n",
       "      <td>1.0020</td>\n",
       "      <td>0.1803</td>\n",
       "      <td>0.85690</td>\n",
       "      <td>0.225600</td>\n",
       "      <td>1:727841</td>\n",
       "      <td>False</td>\n",
       "    </tr>\n",
       "    <tr>\n",
       "      <th>1</th>\n",
       "      <td>1</td>\n",
       "      <td>rs116720794</td>\n",
       "      <td>729632</td>\n",
       "      <td>T</td>\n",
       "      <td>ADD</td>\n",
       "      <td>456494</td>\n",
       "      <td>0.9791</td>\n",
       "      <td>-1.8780</td>\n",
       "      <td>0.06035</td>\n",
       "      <td>0.002207</td>\n",
       "      <td>1:729632</td>\n",
       "      <td>False</td>\n",
       "    </tr>\n",
       "    <tr>\n",
       "      <th>2</th>\n",
       "      <td>1</td>\n",
       "      <td>rs3131972</td>\n",
       "      <td>752721</td>\n",
       "      <td>A</td>\n",
       "      <td>ADD</td>\n",
       "      <td>475137</td>\n",
       "      <td>1.0030</td>\n",
       "      <td>0.5309</td>\n",
       "      <td>0.59550</td>\n",
       "      <td>0.299300</td>\n",
       "      <td>1:752721</td>\n",
       "      <td>False</td>\n",
       "    </tr>\n",
       "    <tr>\n",
       "      <th>3</th>\n",
       "      <td>1</td>\n",
       "      <td>rs12184325</td>\n",
       "      <td>754105</td>\n",
       "      <td>T</td>\n",
       "      <td>ADD</td>\n",
       "      <td>477138</td>\n",
       "      <td>0.9850</td>\n",
       "      <td>-1.3720</td>\n",
       "      <td>0.17000</td>\n",
       "      <td>0.725300</td>\n",
       "      <td>1:754105</td>\n",
       "      <td>False</td>\n",
       "    </tr>\n",
       "    <tr>\n",
       "      <th>4</th>\n",
       "      <td>1</td>\n",
       "      <td>rs3131962</td>\n",
       "      <td>756604</td>\n",
       "      <td>A</td>\n",
       "      <td>ADD</td>\n",
       "      <td>476739</td>\n",
       "      <td>1.0060</td>\n",
       "      <td>0.9662</td>\n",
       "      <td>0.33390</td>\n",
       "      <td>0.786000</td>\n",
       "      <td>1:756604</td>\n",
       "      <td>False</td>\n",
       "    </tr>\n",
       "  </tbody>\n",
       "</table>\n",
       "</div>"
      ],
      "text/plain": [
       "   CHR          SNP      BP A1 TEST   NMISS      OR    STAT        P  \\\n",
       "0    1  rs116587930  727841  A  ADD  429902  1.0020  0.1803  0.85690   \n",
       "1    1  rs116720794  729632  T  ADD  456494  0.9791 -1.8780  0.06035   \n",
       "2    1    rs3131972  752721  A  ADD  475137  1.0030  0.5309  0.59550   \n",
       "3    1   rs12184325  754105  T  ADD  477138  0.9850 -1.3720  0.17000   \n",
       "4    1    rs3131962  756604  A  ADD  476739  1.0060  0.9662  0.33390   \n",
       "\n",
       "   missing_p   chr_pos  stat_sig  \n",
       "0   0.225600  1:727841     False  \n",
       "1   0.002207  1:729632     False  \n",
       "2   0.299300  1:752721     False  \n",
       "3   0.725300  1:754105     False  \n",
       "4   0.786000  1:756604     False  "
      ]
     },
     "execution_count": 41,
     "metadata": {},
     "output_type": "execute_result"
    }
   ],
   "source": [
    "# -- dictionary mapping SNP to whether it is GWAS SIGNIFICANT \n",
    "\n",
    "uksig_dict = dict(zip(uk_gwas_df.SNP, uk_gwas_df.stat_sig))\n",
    "bvsig_dict = dict(zip(bv_gwas_df.SNP, bv_gwas_df.stat_sig))\n"
   ]
  },
  {
   "cell_type": "code",
   "execution_count": 42,
   "metadata": {
    "ExecuteTime": {
     "end_time": "2020-01-29T20:33:32.949045Z",
     "start_time": "2020-01-29T20:33:29.229827Z"
    }
   },
   "outputs": [],
   "source": [
    "# map gwas significant to BLAT hits \n",
    "all_bv_webblat_df['stat_sig'] = all_bv_webblat_df.bim_mapped_rsID.map(bvsig_dict)\n",
    "all_ukwcsf_webblat_df['stat_sig'] = all_ukwcsf_webblat_df.bim_mapped_rsID.map(uksig_dict)\n",
    "all_ukbil_webblat_df['stat_sig'] = all_ukbil_webblat_df.bim_mapped_rsID.map(uksig_dict)\n",
    "\n"
   ]
  },
  {
   "cell_type": "code",
   "execution_count": 44,
   "metadata": {
    "ExecuteTime": {
     "end_time": "2020-01-29T20:34:09.522347Z",
     "start_time": "2020-01-29T20:34:09.493568Z"
    }
   },
   "outputs": [
    {
     "data": {
      "text/html": [
       "<div>\n",
       "<style scoped>\n",
       "    .dataframe tbody tr th:only-of-type {\n",
       "        vertical-align: middle;\n",
       "    }\n",
       "\n",
       "    .dataframe tbody tr th {\n",
       "        vertical-align: top;\n",
       "    }\n",
       "\n",
       "    .dataframe thead th {\n",
       "        text-align: right;\n",
       "    }\n",
       "</style>\n",
       "<table border=\"1\" class=\"dataframe\">\n",
       "  <thead>\n",
       "    <tr style=\"text-align: right;\">\n",
       "      <th></th>\n",
       "      <th>targetChr</th>\n",
       "      <th>targetStart</th>\n",
       "      <th>targetEnd</th>\n",
       "      <th>queryName</th>\n",
       "      <th>score</th>\n",
       "      <th>per_identity</th>\n",
       "      <th>q.start</th>\n",
       "      <th>q.end</th>\n",
       "      <th>q.length</th>\n",
       "      <th>bim_mapped_rsID</th>\n",
       "      <th>stat_sig</th>\n",
       "    </tr>\n",
       "  </thead>\n",
       "  <tbody>\n",
       "    <tr>\n",
       "      <th>0</th>\n",
       "      <td>chrX</td>\n",
       "      <td>140803349</td>\n",
       "      <td>140803401</td>\n",
       "      <td>seqA,1:100183042-AG,1,100183042,T,C:0-45</td>\n",
       "      <td>30</td>\n",
       "      <td>91.7</td>\n",
       "      <td>0</td>\n",
       "      <td>45</td>\n",
       "      <td>45</td>\n",
       "      <td>1:100183042-AG</td>\n",
       "      <td>NaN</td>\n",
       "    </tr>\n",
       "    <tr>\n",
       "      <th>1</th>\n",
       "      <td>chrY</td>\n",
       "      <td>8786480</td>\n",
       "      <td>8786530</td>\n",
       "      <td>seqA,1:100288935-T-C,0,0,A,G:0-50</td>\n",
       "      <td>48</td>\n",
       "      <td>98.0</td>\n",
       "      <td>0</td>\n",
       "      <td>50</td>\n",
       "      <td>50</td>\n",
       "      <td>1:100288935-T-C</td>\n",
       "      <td>NaN</td>\n",
       "    </tr>\n",
       "    <tr>\n",
       "      <th>2</th>\n",
       "      <td>chrY</td>\n",
       "      <td>16112985</td>\n",
       "      <td>16113030</td>\n",
       "      <td>seqA,1:100288935-T-C,0,0,A,G:0-45</td>\n",
       "      <td>43</td>\n",
       "      <td>97.8</td>\n",
       "      <td>0</td>\n",
       "      <td>45</td>\n",
       "      <td>45</td>\n",
       "      <td>1:100288935-T-C</td>\n",
       "      <td>NaN</td>\n",
       "    </tr>\n",
       "    <tr>\n",
       "      <th>3</th>\n",
       "      <td>chrY</td>\n",
       "      <td>59240771</td>\n",
       "      <td>59240820</td>\n",
       "      <td>seqA,1:100288935-T-C,0,0,A,G:0-49</td>\n",
       "      <td>43</td>\n",
       "      <td>93.9</td>\n",
       "      <td>0</td>\n",
       "      <td>49</td>\n",
       "      <td>49</td>\n",
       "      <td>1:100288935-T-C</td>\n",
       "      <td>NaN</td>\n",
       "    </tr>\n",
       "    <tr>\n",
       "      <th>4</th>\n",
       "      <td>chrY</td>\n",
       "      <td>14565576</td>\n",
       "      <td>14565777</td>\n",
       "      <td>seqA,1:100288935-T-C,0,0,A,G:0-50</td>\n",
       "      <td>43</td>\n",
       "      <td>93.9</td>\n",
       "      <td>0</td>\n",
       "      <td>50</td>\n",
       "      <td>50</td>\n",
       "      <td>1:100288935-T-C</td>\n",
       "      <td>NaN</td>\n",
       "    </tr>\n",
       "  </tbody>\n",
       "</table>\n",
       "</div>"
      ],
      "text/plain": [
       "  targetChr  targetStart  targetEnd                                 queryName  \\\n",
       "0      chrX    140803349  140803401  seqA,1:100183042-AG,1,100183042,T,C:0-45   \n",
       "1      chrY      8786480    8786530         seqA,1:100288935-T-C,0,0,A,G:0-50   \n",
       "2      chrY     16112985   16113030         seqA,1:100288935-T-C,0,0,A,G:0-45   \n",
       "3      chrY     59240771   59240820         seqA,1:100288935-T-C,0,0,A,G:0-49   \n",
       "4      chrY     14565576   14565777         seqA,1:100288935-T-C,0,0,A,G:0-50   \n",
       "\n",
       "   score  per_identity  q.start  q.end  q.length  bim_mapped_rsID stat_sig  \n",
       "0     30          91.7        0     45        45   1:100183042-AG      NaN  \n",
       "1     48          98.0        0     50        50  1:100288935-T-C      NaN  \n",
       "2     43          97.8        0     45        45  1:100288935-T-C      NaN  \n",
       "3     43          93.9        0     49        49  1:100288935-T-C      NaN  \n",
       "4     43          93.9        0     50        50  1:100288935-T-C      NaN  "
      ]
     },
     "execution_count": 44,
     "metadata": {},
     "output_type": "execute_result"
    }
   ],
   "source": [
    "all_bv_webblat_df.head()"
   ]
  },
  {
   "cell_type": "code",
   "execution_count": 57,
   "metadata": {
    "ExecuteTime": {
     "end_time": "2020-01-29T20:47:26.240297Z",
     "start_time": "2020-01-29T20:47:26.223525Z"
    }
   },
   "outputs": [],
   "source": [
    "def perm_by_rsid(sig_ids, nsig_ids, df, num_iters=1000, seed=20, test_col='log_evalue'): \n",
    "    \"\"\"\n",
    "    permutation test for difference in mean of 'test_col'. \n",
    "    \n",
    "    This is implemented such that the rsID are shuffled between 'significant' and 'non-significant' labels. \n",
    "    This way a SNP can have mulitple BLAT hits and all of those blat hits will have the label assigned to that snp. \n",
    "    \n",
    "    \"\"\"\n",
    "    \n",
    "    \n",
    "    sig_mean = df.loc[df.bim_mapped_rsID.isin(sig_ids), test_col].mean()\n",
    "    nsig_mean = df.loc[df.bim_mapped_rsID.isin(nsig_ids), test_col].mean()\n",
    "    \n",
    "    # one way test that sig_mean > nsig_mean \n",
    "    # Ho: true_diff == 0 \n",
    "    # Ha: true_diff > 0 \n",
    "    true_diff = sig_mean - nsig_mean \n",
    "    \n",
    "    rng = np.random.RandomState(seed)\n",
    "    \n",
    "    pooled_ids = list(sig_ids.union(nsig_ids))\n",
    "    len_sig = len(sig_ids)\n",
    "    len_nsig = len(nsig_ids)\n",
    "    print(\"Running {:,} iterations.\".format(num_iters))\n",
    "    print(\"sig = {}, n_nsig = {}\".format(len_sig, len_nsig))\n",
    "    \n",
    "    all_nulls = [] \n",
    "    for i in range(num_iters):\n",
    "        print(i) if (i % 1000 == 0) else None\n",
    "        \n",
    "        rng.shuffle(pooled_ids)\n",
    "        new_sig, new_nsig = pooled_ids[:len_sig], pooled_ids[len_sig:]\n",
    "    \n",
    "        sig_mean = df.loc[df.bim_mapped_rsID.isin(new_sig), test_col].mean()\n",
    "        nsig_mean = df.loc[df.bim_mapped_rsID.isin(new_nsig), test_col].mean()\n",
    "\n",
    "\n",
    "        null_val = sig_mean - nsig_mean\n",
    "        all_nulls.append(null_val)\n",
    "\n",
    "    return [np.sum(all_nulls > true_diff) / len(all_nulls), all_nulls, true_diff]"
   ]
  },
  {
   "cell_type": "code",
   "execution_count": 65,
   "metadata": {
    "ExecuteTime": {
     "end_time": "2020-01-29T20:56:44.209922Z",
     "start_time": "2020-01-29T20:56:44.189842Z"
    }
   },
   "outputs": [],
   "source": [
    "def calc_perID_pvalue(df):\n",
    "#     df = all_bv_webblat_df\n",
    "    mapped_df = df.loc[~df.stat_sig.isna()].copy()\n",
    "\n",
    "    sig_snps = set(mapped_df.loc[mapped_df['stat_sig']==True, 'bim_mapped_rsID'].unique())\n",
    "    unsig_snps = set(mapped_df.loc[mapped_df['stat_sig']==False, 'bim_mapped_rsID'].unique())\n",
    "\n",
    "    pval, nulls, true_diff = perm_by_rsid(sig_snps, unsig_snps, mapped_df, num_iters=1000, seed=20, test_col='per_identity')\n",
    "    \n",
    "    return pval"
   ]
  },
  {
   "cell_type": "code",
   "execution_count": 66,
   "metadata": {
    "ExecuteTime": {
     "end_time": "2020-01-29T21:07:26.102625Z",
     "start_time": "2020-01-29T20:56:44.526637Z"
    }
   },
   "outputs": [
    {
     "name": "stdout",
     "output_type": "stream",
     "text": [
      "Running 1,000 iterations.\n",
      "sig = 5, n_nsig = 83078\n",
      "0\n",
      "Running 1,000 iterations.\n",
      "sig = 8, n_nsig = 128082\n",
      "0\n",
      "Running 1,000 iterations.\n",
      "sig = 8, n_nsig = 128082\n",
      "0\n"
     ]
    }
   ],
   "source": [
    "\n",
    "bv_pval = calc_perID_pvalue(all_bv_webblat_df)\n",
    "ukw_pval = calc_perID_pvalue(all_ukwcsf_webblat_df)\n",
    "ukbb_pval = calc_perID_pvalue(all_ukbil_webblat_df)"
   ]
  },
  {
   "cell_type": "code",
   "execution_count": 67,
   "metadata": {
    "ExecuteTime": {
     "end_time": "2020-01-29T21:07:26.116258Z",
     "start_time": "2020-01-29T21:07:26.106609Z"
    }
   },
   "outputs": [
    {
     "data": {
      "text/plain": [
       "0.394"
      ]
     },
     "execution_count": 67,
     "metadata": {},
     "output_type": "execute_result"
    },
    {
     "data": {
      "text/plain": [
       "0.901"
      ]
     },
     "execution_count": 67,
     "metadata": {},
     "output_type": "execute_result"
    },
    {
     "data": {
      "text/plain": [
       "0.901"
      ]
     },
     "execution_count": 67,
     "metadata": {},
     "output_type": "execute_result"
    }
   ],
   "source": [
    "bv_pval\n",
    "ukw_pval\n",
    "ukbb_pval"
   ]
  },
  {
   "cell_type": "code",
   "execution_count": 51,
   "metadata": {
    "ExecuteTime": {
     "end_time": "2020-01-29T20:37:19.787274Z",
     "start_time": "2020-01-29T20:37:19.577457Z"
    },
    "scrolled": true
   },
   "outputs": [
    {
     "data": {
      "text/plain": [
       "96.14"
      ]
     },
     "execution_count": 51,
     "metadata": {},
     "output_type": "execute_result"
    },
    {
     "data": {
      "text/plain": [
       "94.51270659340072"
      ]
     },
     "execution_count": 51,
     "metadata": {},
     "output_type": "execute_result"
    }
   ],
   "source": [
    "all_bv_webblat_df.loc[all_bv_webblat_df['stat_sig']==True].per_identity.mean()\n",
    "all_bv_webblat_df.loc[all_bv_webblat_df['stat_sig']==False].per_identity.mean()"
   ]
  },
  {
   "cell_type": "code",
   "execution_count": 49,
   "metadata": {
    "ExecuteTime": {
     "end_time": "2020-01-29T20:36:50.571267Z",
     "start_time": "2020-01-29T20:36:47.878926Z"
    }
   },
   "outputs": [
    {
     "data": {
      "text/plain": [
       "<matplotlib.axes._subplots.AxesSubplot at 0x2ba3a48c51d0>"
      ]
     },
     "execution_count": 49,
     "metadata": {},
     "output_type": "execute_result"
    },
    {
     "data": {
      "image/png": "[encoded data removed]",
      "text/plain": [
       "<Figure size 432x288 with 1 Axes>"
      ]
     },
     "metadata": {},
     "output_type": "display_data"
    }
   ],
   "source": [
    "sns.set(style=\"whitegrid\", font_scale=1.5)\n",
    "# sns.stripplot(data=all_bv_webblat_df, x=\"stat_sig\", y=\"per_identity\", alpha=1, size=4)\n",
    "# sns.boxplot(data=all_bv_webblat_df, x=\"stat_sig\", y=\"per_identity\", color=\"white\")\n",
    "sns.violinplot(data=all_bv_webblat_df, x=\"stat_sig\", y=\"per_identity\", color=\"white\", inner=None)"
   ]
  },
  {
   "cell_type": "code",
   "execution_count": 41,
   "metadata": {
    "ExecuteTime": {
     "end_time": "2020-01-29T19:21:56.398175Z",
     "start_time": "2020-01-29T19:21:55.972075Z"
    }
   },
   "outputs": [
    {
     "data": {
      "text/html": [
       "<div>\n",
       "<style scoped>\n",
       "    .dataframe tbody tr th:only-of-type {\n",
       "        vertical-align: middle;\n",
       "    }\n",
       "\n",
       "    .dataframe tbody tr th {\n",
       "        vertical-align: top;\n",
       "    }\n",
       "\n",
       "    .dataframe thead th {\n",
       "        text-align: right;\n",
       "    }\n",
       "</style>\n",
       "<table border=\"1\" class=\"dataframe\">\n",
       "  <thead>\n",
       "    <tr style=\"text-align: right;\">\n",
       "      <th></th>\n",
       "      <th>CHR</th>\n",
       "      <th>SNP</th>\n",
       "      <th>BP</th>\n",
       "      <th>A1</th>\n",
       "      <th>TEST</th>\n",
       "      <th>NMISS</th>\n",
       "      <th>OR</th>\n",
       "      <th>STAT</th>\n",
       "      <th>P</th>\n",
       "      <th>missing_p</th>\n",
       "      <th>chr_pos</th>\n",
       "      <th>stat_sig</th>\n",
       "      <th>targetChr</th>\n",
       "      <th>target_Start-End</th>\n",
       "      <th>per_identity</th>\n",
       "      <th>query_Start-End</th>\n",
       "      <th>q.length</th>\n",
       "      <th>bim_mapped_rsID</th>\n",
       "      <th>pass_blat_filters</th>\n",
       "    </tr>\n",
       "  </thead>\n",
       "  <tbody>\n",
       "    <tr>\n",
       "      <th>29591</th>\n",
       "      <td>1</td>\n",
       "      <td>rs75745570</td>\n",
       "      <td>162075684</td>\n",
       "      <td>T</td>\n",
       "      <td>ADD</td>\n",
       "      <td>471060</td>\n",
       "      <td>0.9231</td>\n",
       "      <td>-7.477</td>\n",
       "      <td>7.601000e-14</td>\n",
       "      <td>0.010980</td>\n",
       "      <td>1:162075684</td>\n",
       "      <td>True</td>\n",
       "      <td>chrX</td>\n",
       "      <td>121952043-121952114</td>\n",
       "      <td>90.2</td>\n",
       "      <td>0-71</td>\n",
       "      <td>71.0</td>\n",
       "      <td>rs75745570</td>\n",
       "      <td>True</td>\n",
       "    </tr>\n",
       "    <tr>\n",
       "      <th>159368</th>\n",
       "      <td>4</td>\n",
       "      <td>rs114928327</td>\n",
       "      <td>88457099</td>\n",
       "      <td>T</td>\n",
       "      <td>ADD</td>\n",
       "      <td>413257</td>\n",
       "      <td>0.8924</td>\n",
       "      <td>-9.669</td>\n",
       "      <td>4.088000e-22</td>\n",
       "      <td>0.000064</td>\n",
       "      <td>4:88457099</td>\n",
       "      <td>True</td>\n",
       "      <td>chrX</td>\n",
       "      <td>79401701-79401751</td>\n",
       "      <td>95.9</td>\n",
       "      <td>0-50</td>\n",
       "      <td>50.0</td>\n",
       "      <td>rs114928327</td>\n",
       "      <td>True</td>\n",
       "    </tr>\n",
       "    <tr>\n",
       "      <th>366092</th>\n",
       "      <td>10</td>\n",
       "      <td>rs11598874</td>\n",
       "      <td>39006198</td>\n",
       "      <td>T</td>\n",
       "      <td>ADD</td>\n",
       "      <td>478329</td>\n",
       "      <td>1.0720</td>\n",
       "      <td>7.039</td>\n",
       "      <td>1.937000e-12</td>\n",
       "      <td>0.105000</td>\n",
       "      <td>10:39006198</td>\n",
       "      <td>True</td>\n",
       "      <td>chrY</td>\n",
       "      <td>13568059-13568130</td>\n",
       "      <td>97.2</td>\n",
       "      <td>0-71</td>\n",
       "      <td>71.0</td>\n",
       "      <td>rs11598874</td>\n",
       "      <td>True</td>\n",
       "    </tr>\n",
       "    <tr>\n",
       "      <th>388436</th>\n",
       "      <td>11</td>\n",
       "      <td>rs11032483</td>\n",
       "      <td>4515024</td>\n",
       "      <td>T</td>\n",
       "      <td>ADD</td>\n",
       "      <td>482581</td>\n",
       "      <td>1.2540</td>\n",
       "      <td>15.410</td>\n",
       "      <td>1.329000e-53</td>\n",
       "      <td>0.053430</td>\n",
       "      <td>11:4515024</td>\n",
       "      <td>True</td>\n",
       "      <td>NaN</td>\n",
       "      <td>NaN</td>\n",
       "      <td>NaN</td>\n",
       "      <td>NaN</td>\n",
       "      <td>NaN</td>\n",
       "      <td>NaN</td>\n",
       "      <td>NaN</td>\n",
       "    </tr>\n",
       "    <tr>\n",
       "      <th>395906</th>\n",
       "      <td>11</td>\n",
       "      <td>rs75212444</td>\n",
       "      <td>34104213</td>\n",
       "      <td>T</td>\n",
       "      <td>ADD</td>\n",
       "      <td>482788</td>\n",
       "      <td>0.8822</td>\n",
       "      <td>-7.327</td>\n",
       "      <td>2.353000e-13</td>\n",
       "      <td>0.002453</td>\n",
       "      <td>11:34104213</td>\n",
       "      <td>True</td>\n",
       "      <td>chrX</td>\n",
       "      <td>36967486-36967536</td>\n",
       "      <td>96.0</td>\n",
       "      <td>5-55</td>\n",
       "      <td>50.0</td>\n",
       "      <td>rs75212444</td>\n",
       "      <td>True</td>\n",
       "    </tr>\n",
       "    <tr>\n",
       "      <th>442574</th>\n",
       "      <td>12</td>\n",
       "      <td>rs7298104</td>\n",
       "      <td>118926685</td>\n",
       "      <td>T</td>\n",
       "      <td>ADD</td>\n",
       "      <td>475771</td>\n",
       "      <td>0.9115</td>\n",
       "      <td>-6.191</td>\n",
       "      <td>5.966000e-10</td>\n",
       "      <td>0.093570</td>\n",
       "      <td>12:118926685</td>\n",
       "      <td>True</td>\n",
       "      <td>chrX</td>\n",
       "      <td>140960243-140960716</td>\n",
       "      <td>97.3</td>\n",
       "      <td>19-67</td>\n",
       "      <td>48.0</td>\n",
       "      <td>rs7298104</td>\n",
       "      <td>True</td>\n",
       "    </tr>\n",
       "    <tr>\n",
       "      <th>581948</th>\n",
       "      <td>19</td>\n",
       "      <td>rs116890400</td>\n",
       "      <td>53535248</td>\n",
       "      <td>A</td>\n",
       "      <td>ADD</td>\n",
       "      <td>485047</td>\n",
       "      <td>0.8810</td>\n",
       "      <td>-6.803</td>\n",
       "      <td>1.023000e-11</td>\n",
       "      <td>0.000012</td>\n",
       "      <td>19:53535248</td>\n",
       "      <td>True</td>\n",
       "      <td>chrX</td>\n",
       "      <td>69087775-69087830</td>\n",
       "      <td>91.0</td>\n",
       "      <td>16-71</td>\n",
       "      <td>55.0</td>\n",
       "      <td>rs116890400</td>\n",
       "      <td>True</td>\n",
       "    </tr>\n",
       "    <tr>\n",
       "      <th>601395</th>\n",
       "      <td>21</td>\n",
       "      <td>rs73196350</td>\n",
       "      <td>18068575</td>\n",
       "      <td>A</td>\n",
       "      <td>ADD</td>\n",
       "      <td>479137</td>\n",
       "      <td>0.9356</td>\n",
       "      <td>-6.213</td>\n",
       "      <td>5.187000e-10</td>\n",
       "      <td>0.005081</td>\n",
       "      <td>21:18068575</td>\n",
       "      <td>True</td>\n",
       "      <td>chrX</td>\n",
       "      <td>45477211-45477251</td>\n",
       "      <td>94.9</td>\n",
       "      <td>24-64</td>\n",
       "      <td>40.0</td>\n",
       "      <td>rs73196350</td>\n",
       "      <td>True</td>\n",
       "    </tr>\n",
       "  </tbody>\n",
       "</table>\n",
       "</div>"
      ],
      "text/plain": [
       "        CHR          SNP         BP A1 TEST   NMISS      OR    STAT  \\\n",
       "29591     1   rs75745570  162075684  T  ADD  471060  0.9231  -7.477   \n",
       "159368    4  rs114928327   88457099  T  ADD  413257  0.8924  -9.669   \n",
       "366092   10   rs11598874   39006198  T  ADD  478329  1.0720   7.039   \n",
       "388436   11   rs11032483    4515024  T  ADD  482581  1.2540  15.410   \n",
       "395906   11   rs75212444   34104213  T  ADD  482788  0.8822  -7.327   \n",
       "442574   12    rs7298104  118926685  T  ADD  475771  0.9115  -6.191   \n",
       "581948   19  rs116890400   53535248  A  ADD  485047  0.8810  -6.803   \n",
       "601395   21   rs73196350   18068575  A  ADD  479137  0.9356  -6.213   \n",
       "\n",
       "                   P  missing_p       chr_pos  stat_sig targetChr  \\\n",
       "29591   7.601000e-14   0.010980   1:162075684      True      chrX   \n",
       "159368  4.088000e-22   0.000064    4:88457099      True      chrX   \n",
       "366092  1.937000e-12   0.105000   10:39006198      True      chrY   \n",
       "388436  1.329000e-53   0.053430    11:4515024      True       NaN   \n",
       "395906  2.353000e-13   0.002453   11:34104213      True      chrX   \n",
       "442574  5.966000e-10   0.093570  12:118926685      True      chrX   \n",
       "581948  1.023000e-11   0.000012   19:53535248      True      chrX   \n",
       "601395  5.187000e-10   0.005081   21:18068575      True      chrX   \n",
       "\n",
       "           target_Start-End  per_identity query_Start-End  q.length  \\\n",
       "29591   121952043-121952114          90.2            0-71      71.0   \n",
       "159368    79401701-79401751          95.9            0-50      50.0   \n",
       "366092    13568059-13568130          97.2            0-71      71.0   \n",
       "388436                  NaN           NaN             NaN       NaN   \n",
       "395906    36967486-36967536          96.0            5-55      50.0   \n",
       "442574  140960243-140960716          97.3           19-67      48.0   \n",
       "581948    69087775-69087830          91.0           16-71      55.0   \n",
       "601395    45477211-45477251          94.9           24-64      40.0   \n",
       "\n",
       "       bim_mapped_rsID pass_blat_filters  \n",
       "29591       rs75745570              True  \n",
       "159368     rs114928327              True  \n",
       "366092      rs11598874              True  \n",
       "388436             NaN               NaN  \n",
       "395906      rs75212444              True  \n",
       "442574       rs7298104              True  \n",
       "581948     rs116890400              True  \n",
       "601395      rs73196350              True  "
      ]
     },
     "execution_count": 41,
     "metadata": {},
     "output_type": "execute_result"
    }
   ],
   "source": [
    "uk_gwas_blat_df.loc[uk_gwas_blat_df['stat_sig']]"
   ]
  },
  {
   "cell_type": "code",
   "execution_count": 42,
   "metadata": {
    "ExecuteTime": {
     "end_time": "2020-01-29T19:22:05.811553Z",
     "start_time": "2020-01-29T19:22:05.378515Z"
    }
   },
   "outputs": [
    {
     "data": {
      "text/html": [
       "<div>\n",
       "<style scoped>\n",
       "    .dataframe tbody tr th:only-of-type {\n",
       "        vertical-align: middle;\n",
       "    }\n",
       "\n",
       "    .dataframe tbody tr th {\n",
       "        vertical-align: top;\n",
       "    }\n",
       "\n",
       "    .dataframe thead th {\n",
       "        text-align: right;\n",
       "    }\n",
       "</style>\n",
       "<table border=\"1\" class=\"dataframe\">\n",
       "  <thead>\n",
       "    <tr style=\"text-align: right;\">\n",
       "      <th></th>\n",
       "      <th>CHR</th>\n",
       "      <th>SNP</th>\n",
       "      <th>BP</th>\n",
       "      <th>A1</th>\n",
       "      <th>TEST</th>\n",
       "      <th>NMISS</th>\n",
       "      <th>OR</th>\n",
       "      <th>STAT</th>\n",
       "      <th>P</th>\n",
       "      <th>chr_pos</th>\n",
       "      <th>stat_sig</th>\n",
       "      <th>targetChr</th>\n",
       "      <th>target_Start-End</th>\n",
       "      <th>per_identity</th>\n",
       "      <th>query_Start-End</th>\n",
       "      <th>q.length</th>\n",
       "      <th>bim_mapped_rsID</th>\n",
       "      <th>pass_blat_filters</th>\n",
       "    </tr>\n",
       "  </thead>\n",
       "  <tbody>\n",
       "    <tr>\n",
       "      <th>137217</th>\n",
       "      <td>3</td>\n",
       "      <td>JHU_3.16652239</td>\n",
       "      <td>16652240</td>\n",
       "      <td>T</td>\n",
       "      <td>ADD</td>\n",
       "      <td>61709</td>\n",
       "      <td>1.3080</td>\n",
       "      <td>19.330</td>\n",
       "      <td>2.825000e-83</td>\n",
       "      <td>3:16652240</td>\n",
       "      <td>True</td>\n",
       "      <td>chrY</td>\n",
       "      <td>26964471-26964521</td>\n",
       "      <td>96.0</td>\n",
       "      <td>0-50</td>\n",
       "      <td>50.0</td>\n",
       "      <td>JHU_3.16652239</td>\n",
       "      <td>True</td>\n",
       "    </tr>\n",
       "    <tr>\n",
       "      <th>376986</th>\n",
       "      <td>7</td>\n",
       "      <td>rs145369881</td>\n",
       "      <td>100351596</td>\n",
       "      <td>T</td>\n",
       "      <td>ADD</td>\n",
       "      <td>60499</td>\n",
       "      <td>0.7808</td>\n",
       "      <td>-5.527</td>\n",
       "      <td>3.251000e-08</td>\n",
       "      <td>7:100351596</td>\n",
       "      <td>True</td>\n",
       "      <td>chrX</td>\n",
       "      <td>66853761-66853802</td>\n",
       "      <td>95.2</td>\n",
       "      <td>9-50</td>\n",
       "      <td>41.0</td>\n",
       "      <td>rs145369881</td>\n",
       "      <td>True</td>\n",
       "    </tr>\n",
       "    <tr>\n",
       "      <th>381749</th>\n",
       "      <td>7</td>\n",
       "      <td>rs77638744</td>\n",
       "      <td>121147858</td>\n",
       "      <td>A</td>\n",
       "      <td>ADD</td>\n",
       "      <td>61361</td>\n",
       "      <td>1.1230</td>\n",
       "      <td>6.403</td>\n",
       "      <td>1.522000e-10</td>\n",
       "      <td>7:121147858</td>\n",
       "      <td>True</td>\n",
       "      <td>chrY</td>\n",
       "      <td>23315613-23316169</td>\n",
       "      <td>98.0</td>\n",
       "      <td>0-50</td>\n",
       "      <td>50.0</td>\n",
       "      <td>rs77638744</td>\n",
       "      <td>True</td>\n",
       "    </tr>\n",
       "    <tr>\n",
       "      <th>586154</th>\n",
       "      <td>13</td>\n",
       "      <td>JHU_13.20119335</td>\n",
       "      <td>20119336</td>\n",
       "      <td>C</td>\n",
       "      <td>ADD</td>\n",
       "      <td>61694</td>\n",
       "      <td>1.1850</td>\n",
       "      <td>11.700</td>\n",
       "      <td>1.265000e-31</td>\n",
       "      <td>13:20119336</td>\n",
       "      <td>True</td>\n",
       "      <td>chrY</td>\n",
       "      <td>28612640-28612689</td>\n",
       "      <td>91.9</td>\n",
       "      <td>0-50</td>\n",
       "      <td>50.0</td>\n",
       "      <td>JHU_13.20119335</td>\n",
       "      <td>True</td>\n",
       "    </tr>\n",
       "    <tr>\n",
       "      <th>620037</th>\n",
       "      <td>14</td>\n",
       "      <td>14:35761675-C-G</td>\n",
       "      <td>35761675</td>\n",
       "      <td>G</td>\n",
       "      <td>ADD</td>\n",
       "      <td>61712</td>\n",
       "      <td>1.1620</td>\n",
       "      <td>9.266</td>\n",
       "      <td>1.935000e-20</td>\n",
       "      <td>14:35761675</td>\n",
       "      <td>True</td>\n",
       "      <td>chrY</td>\n",
       "      <td>15398460-15398510</td>\n",
       "      <td>96.0</td>\n",
       "      <td>0-50</td>\n",
       "      <td>50.0</td>\n",
       "      <td>14:35761675-C-G</td>\n",
       "      <td>True</td>\n",
       "    </tr>\n",
       "  </tbody>\n",
       "</table>\n",
       "</div>"
      ],
      "text/plain": [
       "        CHR              SNP         BP A1 TEST  NMISS      OR    STAT  \\\n",
       "137217    3   JHU_3.16652239   16652240  T  ADD  61709  1.3080  19.330   \n",
       "376986    7      rs145369881  100351596  T  ADD  60499  0.7808  -5.527   \n",
       "381749    7       rs77638744  121147858  A  ADD  61361  1.1230   6.403   \n",
       "586154   13  JHU_13.20119335   20119336  C  ADD  61694  1.1850  11.700   \n",
       "620037   14  14:35761675-C-G   35761675  G  ADD  61712  1.1620   9.266   \n",
       "\n",
       "                   P      chr_pos  stat_sig targetChr   target_Start-End  \\\n",
       "137217  2.825000e-83   3:16652240      True      chrY  26964471-26964521   \n",
       "376986  3.251000e-08  7:100351596      True      chrX  66853761-66853802   \n",
       "381749  1.522000e-10  7:121147858      True      chrY  23315613-23316169   \n",
       "586154  1.265000e-31  13:20119336      True      chrY  28612640-28612689   \n",
       "620037  1.935000e-20  14:35761675      True      chrY  15398460-15398510   \n",
       "\n",
       "        per_identity query_Start-End  q.length  bim_mapped_rsID  \\\n",
       "137217          96.0            0-50      50.0   JHU_3.16652239   \n",
       "376986          95.2            9-50      41.0      rs145369881   \n",
       "381749          98.0            0-50      50.0       rs77638744   \n",
       "586154          91.9            0-50      50.0  JHU_13.20119335   \n",
       "620037          96.0            0-50      50.0  14:35761675-C-G   \n",
       "\n",
       "       pass_blat_filters  \n",
       "137217              True  \n",
       "376986              True  \n",
       "381749              True  \n",
       "586154              True  \n",
       "620037              True  "
      ]
     },
     "execution_count": 42,
     "metadata": {},
     "output_type": "execute_result"
    }
   ],
   "source": [
    "bv_gwas_blat_df.loc[bv_gwas_blat_df['stat_sig']]"
   ]
  },
  {
   "cell_type": "code",
   "execution_count": null,
   "metadata": {},
   "outputs": [],
   "source": []
  }
 ],
 "metadata": {
  "kernelspec": {
   "display_name": "Python 3",
   "language": "python",
   "name": "python3"
  },
  "language_info": {
   "codemirror_mode": {
    "name": "ipython",
    "version": 3
   },
   "file_extension": ".py",
   "mimetype": "text/x-python",
   "name": "python",
   "nbconvert_exporter": "python",
   "pygments_lexer": "ipython3",
   "version": "3.6.7"
  },
  "toc": {
   "base_numbering": 1,
   "nav_menu": {},
   "number_sections": true,
   "sideBar": true,
   "skip_h1_title": false,
   "title_cell": "Table of Contents",
   "title_sidebar": "Contents",
   "toc_cell": false,
   "toc_position": {},
   "toc_section_display": true,
   "toc_window_display": false
  }
 },
 "nbformat": 4,
 "nbformat_minor": 2
}
