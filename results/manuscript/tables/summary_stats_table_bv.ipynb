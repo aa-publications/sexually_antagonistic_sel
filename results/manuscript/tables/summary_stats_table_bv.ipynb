{
 "cells": [
  {
   "cell_type": "markdown",
   "metadata": {},
   "source": [
    "Creates a xcel and csv final of the BioVU Summary Stastistics with the following information: \n",
    "    * P value \n",
    "    * OR \n",
    "    * A1, A2\n",
    "    * HWE in case and controls\n",
    "    * MAF in cases and controls"
   ]
  },
  {
   "cell_type": "code",
   "execution_count": 1,
   "metadata": {
    "ExecuteTime": {
     "end_time": "2019-12-08T19:57:28.129525Z",
     "start_time": "2019-12-08T19:57:27.144841Z"
    }
   },
   "outputs": [
    {
     "data": {
      "text/html": [
       "<style>.container {width:100% !important; }</style>"
      ],
      "text/plain": [
       "<IPython.core.display.HTML object>"
      ]
     },
     "metadata": {},
     "output_type": "display_data"
    }
   ],
   "source": [
    "import os, sys\n",
    "import numpy as np\n",
    "import pandas as pd \n",
    "import seaborn as sns\n",
    "from datetime import datetime\n",
    "\n",
    "from IPython.core.interactiveshell import InteractiveShell\n",
    "InteractiveShell.ast_node_interactivity = \"all\" \n",
    "from IPython.core.display import display, HTML    \n",
    "display(HTML(\"<style>.container {width:100% !important; }</style>\"))\n",
    "%matplotlib inline \n",
    "np.set_printoptions(precision=5, suppress=True) \n",
    "\n",
    "from docx import Document\n",
    "\n",
    "DATE = datetime.now().strftime('%Y-%m-%d')"
   ]
  },
  {
   "cell_type": "code",
   "execution_count": 2,
   "metadata": {
    "ExecuteTime": {
     "end_time": "2019-12-08T19:57:28.137597Z",
     "start_time": "2019-12-08T19:57:28.131389Z"
    }
   },
   "outputs": [],
   "source": [
    "### PATHS \n",
    "BV_FREQ_DIR=\"/dors/capra_lab/users/abraha1/prelim_studies/katja_biobank/results/2019_07_21_logistic/freq_hwe\"\n",
    "fq_cases = os.path.join(BV_FREQ_DIR, '2019_07_21_logistic_cases_frq_hwe.out.frq')\n",
    "fq_con = os.path.join(BV_FREQ_DIR, '2019_07_21_logistic_controls_frq_hwe.out.frq')\n",
    "hwe_cases = os.path.join(BV_FREQ_DIR, '2019_07_21_logistic_cases_frq_hwe.out.hwe')\n",
    "hwe_con = os.path.join(BV_FREQ_DIR, '2019_07_21_logistic_controls_frq_hwe.out.hwe')\n",
    "\n",
    "\n",
    "BV_ASSOC_FILE=\"/dors/capra_lab/users/abraha1/prelim_studies/katja_biobank/results/2019_07_21_logistic/2019_07_21_logistic.assoc.logistic\"\n",
    "\n",
    "OUTPUT_DIR=\"/dors/capra_lab/users/abraha1/prelim_studies/katja_biobank/results/manuscript/tables\""
   ]
  },
  {
   "cell_type": "markdown",
   "metadata": {},
   "source": [
    "# main"
   ]
  },
  {
   "cell_type": "code",
   "execution_count": 3,
   "metadata": {
    "ExecuteTime": {
     "end_time": "2019-12-08T19:57:28.169468Z",
     "start_time": "2019-12-08T19:57:28.140313Z"
    }
   },
   "outputs": [],
   "source": [
    "load = lambda x: pd.read_csv(x, sep=\"\\s+\")"
   ]
  },
  {
   "cell_type": "code",
   "execution_count": 4,
   "metadata": {
    "ExecuteTime": {
     "end_time": "2019-12-08T19:57:37.862518Z",
     "start_time": "2019-12-08T19:57:28.172871Z"
    }
   },
   "outputs": [],
   "source": [
    "# load associations \n",
    "bv_df = pd.read_csv(BV_ASSOC_FILE, sep=\"\\s+\")"
   ]
  },
  {
   "cell_type": "code",
   "execution_count": 5,
   "metadata": {
    "ExecuteTime": {
     "end_time": "2019-12-08T19:57:43.899570Z",
     "start_time": "2019-12-08T19:57:37.864819Z"
    }
   },
   "outputs": [],
   "source": [
    "# load cases\n",
    "case_frq = load(fq_cases)\n",
    "case_hwe = load(hwe_cases)\n",
    "case_hwe = case_hwe.loc[case_hwe['TEST']=='ALL'].copy()"
   ]
  },
  {
   "cell_type": "code",
   "execution_count": 6,
   "metadata": {
    "ExecuteTime": {
     "end_time": "2019-12-08T19:57:50.045803Z",
     "start_time": "2019-12-08T19:57:43.901717Z"
    }
   },
   "outputs": [],
   "source": [
    "# load controls \n",
    "control_frq = load(fq_con)\n",
    "control_hwe = load(hwe_con)\n",
    "control_hwe = control_hwe.loc[control_hwe['TEST']=='ALL'].copy()"
   ]
  },
  {
   "cell_type": "code",
   "execution_count": 7,
   "metadata": {
    "ExecuteTime": {
     "end_time": "2019-12-08T19:57:50.053332Z",
     "start_time": "2019-12-08T19:57:50.048395Z"
    }
   },
   "outputs": [],
   "source": [
    "# keep only autosomes\n",
    "autosomes = lambda x: x.loc[x['CHR'] < 23,: ]"
   ]
  },
  {
   "cell_type": "code",
   "execution_count": 8,
   "metadata": {
    "ExecuteTime": {
     "end_time": "2019-12-08T19:57:50.835496Z",
     "start_time": "2019-12-08T19:57:50.055580Z"
    }
   },
   "outputs": [],
   "source": [
    "case_frq = autosomes(case_frq).copy()\n",
    "case_hwe = autosomes(case_hwe).copy()\n",
    "control_frq = autosomes(control_frq).copy()\n",
    "case_hwe = autosomes(case_hwe).copy()"
   ]
  },
  {
   "cell_type": "code",
   "execution_count": 9,
   "metadata": {
    "ExecuteTime": {
     "end_time": "2019-12-08T19:57:51.347686Z",
     "start_time": "2019-12-08T19:57:50.842623Z"
    }
   },
   "outputs": [],
   "source": [
    "# rename columns\n",
    "case_frq.rename(columns={'MAF':'MAF (cases)'}, inplace=True)\n",
    "case_hwe.rename(columns={'P':'HWE P-value (cases)'}, inplace=True)\n",
    "\n",
    "control_frq.rename(columns={'MAF':'MAF (controls)'}, inplace=True)\n",
    "control_hwe.rename(columns={'P':'HWE P-value (controls)'}, inplace=True)"
   ]
  },
  {
   "cell_type": "code",
   "execution_count": 10,
   "metadata": {
    "ExecuteTime": {
     "end_time": "2019-12-08T19:57:53.111641Z",
     "start_time": "2019-12-08T19:57:51.354506Z"
    }
   },
   "outputs": [],
   "source": [
    "merged_cases = pd.merge(case_frq.loc[:, ['SNP','A1','A2','MAF (cases)']],\n",
    "         case_hwe.loc[:, ['SNP','HWE P-value (cases)']], on='SNP', how='left')\n",
    "\n",
    "merged_controls = pd.merge(control_frq.loc[:, ['SNP','A1','A2','MAF (controls)']],\n",
    "         control_hwe.loc[:, ['SNP','HWE P-value (controls)']], on='SNP', how='left')"
   ]
  },
  {
   "cell_type": "code",
   "execution_count": 11,
   "metadata": {
    "ExecuteTime": {
     "end_time": "2019-12-08T19:57:53.137734Z",
     "start_time": "2019-12-08T19:57:53.114414Z"
    }
   },
   "outputs": [
    {
     "data": {
      "text/html": [
       "<div>\n",
       "<style scoped>\n",
       "    .dataframe tbody tr th:only-of-type {\n",
       "        vertical-align: middle;\n",
       "    }\n",
       "\n",
       "    .dataframe tbody tr th {\n",
       "        vertical-align: top;\n",
       "    }\n",
       "\n",
       "    .dataframe thead th {\n",
       "        text-align: right;\n",
       "    }\n",
       "</style>\n",
       "<table border=\"1\" class=\"dataframe\">\n",
       "  <thead>\n",
       "    <tr style=\"text-align: right;\">\n",
       "      <th></th>\n",
       "      <th>CHR</th>\n",
       "      <th>SNP</th>\n",
       "      <th>BP</th>\n",
       "      <th>A1</th>\n",
       "      <th>TEST</th>\n",
       "      <th>NMISS</th>\n",
       "      <th>OR</th>\n",
       "      <th>STAT</th>\n",
       "      <th>P</th>\n",
       "    </tr>\n",
       "  </thead>\n",
       "  <tbody>\n",
       "    <tr>\n",
       "      <th>5677633</th>\n",
       "      <td>26</td>\n",
       "      <td>rs373855397</td>\n",
       "      <td>16261</td>\n",
       "      <td>T</td>\n",
       "      <td>PC1</td>\n",
       "      <td>61622</td>\n",
       "      <td>1.73300</td>\n",
       "      <td>0.2432</td>\n",
       "      <td>0.80780</td>\n",
       "    </tr>\n",
       "    <tr>\n",
       "      <th>5677634</th>\n",
       "      <td>26</td>\n",
       "      <td>rs373855397</td>\n",
       "      <td>16261</td>\n",
       "      <td>T</td>\n",
       "      <td>PC2</td>\n",
       "      <td>61622</td>\n",
       "      <td>17.49000</td>\n",
       "      <td>1.1950</td>\n",
       "      <td>0.23210</td>\n",
       "    </tr>\n",
       "    <tr>\n",
       "      <th>5677635</th>\n",
       "      <td>26</td>\n",
       "      <td>rs373855397</td>\n",
       "      <td>16261</td>\n",
       "      <td>T</td>\n",
       "      <td>PC3</td>\n",
       "      <td>61622</td>\n",
       "      <td>48.08000</td>\n",
       "      <td>1.8200</td>\n",
       "      <td>0.06876</td>\n",
       "    </tr>\n",
       "    <tr>\n",
       "      <th>5677636</th>\n",
       "      <td>26</td>\n",
       "      <td>rs373855397</td>\n",
       "      <td>16261</td>\n",
       "      <td>T</td>\n",
       "      <td>PC4</td>\n",
       "      <td>61622</td>\n",
       "      <td>18.32000</td>\n",
       "      <td>1.3630</td>\n",
       "      <td>0.17290</td>\n",
       "    </tr>\n",
       "    <tr>\n",
       "      <th>5677637</th>\n",
       "      <td>26</td>\n",
       "      <td>rs373855397</td>\n",
       "      <td>16261</td>\n",
       "      <td>T</td>\n",
       "      <td>PC5</td>\n",
       "      <td>61622</td>\n",
       "      <td>0.08672</td>\n",
       "      <td>-1.1480</td>\n",
       "      <td>0.25080</td>\n",
       "    </tr>\n",
       "  </tbody>\n",
       "</table>\n",
       "</div>"
      ],
      "text/plain": [
       "         CHR          SNP     BP A1 TEST  NMISS        OR    STAT        P\n",
       "5677633   26  rs373855397  16261  T  PC1  61622   1.73300  0.2432  0.80780\n",
       "5677634   26  rs373855397  16261  T  PC2  61622  17.49000  1.1950  0.23210\n",
       "5677635   26  rs373855397  16261  T  PC3  61622  48.08000  1.8200  0.06876\n",
       "5677636   26  rs373855397  16261  T  PC4  61622  18.32000  1.3630  0.17290\n",
       "5677637   26  rs373855397  16261  T  PC5  61622   0.08672 -1.1480  0.25080"
      ]
     },
     "execution_count": 11,
     "metadata": {},
     "output_type": "execute_result"
    }
   ],
   "source": [
    "bv_df.tail()"
   ]
  },
  {
   "cell_type": "code",
   "execution_count": 12,
   "metadata": {
    "ExecuteTime": {
     "end_time": "2019-12-08T19:57:58.276250Z",
     "start_time": "2019-12-08T19:57:53.140415Z"
    }
   },
   "outputs": [],
   "source": [
    "# format association \n",
    "bv_df = autosomes(bv_df).copy()\n",
    "bv_df['chr:pos (hg37)'] = bv_df.CHR.map(str) + \":\" + bv_df.BP.map(str)\n",
    "bv_df['cohort'] = 'BioVU'"
   ]
  },
  {
   "cell_type": "code",
   "execution_count": 13,
   "metadata": {
    "ExecuteTime": {
     "end_time": "2019-12-08T19:57:59.873018Z",
     "start_time": "2019-12-08T19:57:58.278688Z"
    }
   },
   "outputs": [],
   "source": [
    "summary_df = bv_df.loc[bv_df['TEST']=='ADD', ['SNP','chr:pos (hg37)','NMISS','OR','P','cohort']].copy()"
   ]
  },
  {
   "cell_type": "code",
   "execution_count": 14,
   "metadata": {
    "ExecuteTime": {
     "end_time": "2019-12-08T19:58:01.554700Z",
     "start_time": "2019-12-08T19:57:59.875467Z"
    }
   },
   "outputs": [],
   "source": [
    "case_merge = pd.merge(summary_df, merged_cases, on='SNP', how='left')\n",
    "merged_df = pd.merge(case_merge, merged_controls.loc[:, ['SNP','MAF (controls)', 'HWE P-value (controls)']], on='SNP', how='left')"
   ]
  },
  {
   "cell_type": "code",
   "execution_count": 15,
   "metadata": {
    "ExecuteTime": {
     "end_time": "2019-12-08T19:58:02.284634Z",
     "start_time": "2019-12-08T19:58:01.557139Z"
    }
   },
   "outputs": [],
   "source": [
    "col_order=['SNP', 'chr:pos (hg37)','A1', 'A2', 'OR', 'P','MAF (cases)', 'MAF (controls)', 'HWE P-value (cases)','HWE P-value (controls)', 'NMISS',  'cohort']\n",
    "final_merged_df = merged_df.loc[:, col_order].copy()\n",
    "final_merged_df.rename(columns={'NMISS':'N'}, inplace=True)"
   ]
  },
  {
   "cell_type": "code",
   "execution_count": 16,
   "metadata": {
    "ExecuteTime": {
     "end_time": "2019-12-08T19:58:02.313663Z",
     "start_time": "2019-12-08T19:58:02.287210Z"
    }
   },
   "outputs": [
    {
     "data": {
      "text/html": [
       "<div>\n",
       "<style scoped>\n",
       "    .dataframe tbody tr th:only-of-type {\n",
       "        vertical-align: middle;\n",
       "    }\n",
       "\n",
       "    .dataframe tbody tr th {\n",
       "        vertical-align: top;\n",
       "    }\n",
       "\n",
       "    .dataframe thead th {\n",
       "        text-align: right;\n",
       "    }\n",
       "</style>\n",
       "<table border=\"1\" class=\"dataframe\">\n",
       "  <thead>\n",
       "    <tr style=\"text-align: right;\">\n",
       "      <th></th>\n",
       "      <th>SNP</th>\n",
       "      <th>chr:pos (hg37)</th>\n",
       "      <th>A1</th>\n",
       "      <th>A2</th>\n",
       "      <th>OR</th>\n",
       "      <th>P</th>\n",
       "      <th>MAF (cases)</th>\n",
       "      <th>MAF (controls)</th>\n",
       "      <th>HWE P-value (cases)</th>\n",
       "      <th>HWE P-value (controls)</th>\n",
       "      <th>N</th>\n",
       "      <th>cohort</th>\n",
       "    </tr>\n",
       "  </thead>\n",
       "  <tbody>\n",
       "    <tr>\n",
       "      <th>0</th>\n",
       "      <td>1:49554-G-A</td>\n",
       "      <td>1:49554</td>\n",
       "      <td>G</td>\n",
       "      <td>A</td>\n",
       "      <td>0.9960</td>\n",
       "      <td>0.8906</td>\n",
       "      <td>0.04189</td>\n",
       "      <td>0.04202</td>\n",
       "      <td>1.227000e-27</td>\n",
       "      <td>2.697000e-19</td>\n",
       "      <td>61373</td>\n",
       "      <td>BioVU</td>\n",
       "    </tr>\n",
       "    <tr>\n",
       "      <th>1</th>\n",
       "      <td>JHU_1.565975</td>\n",
       "      <td>1:565976</td>\n",
       "      <td>C</td>\n",
       "      <td>T</td>\n",
       "      <td>0.9803</td>\n",
       "      <td>0.5325</td>\n",
       "      <td>0.01633</td>\n",
       "      <td>0.01699</td>\n",
       "      <td>0.000000e+00</td>\n",
       "      <td>0.000000e+00</td>\n",
       "      <td>61156</td>\n",
       "      <td>BioVU</td>\n",
       "    </tr>\n",
       "    <tr>\n",
       "      <th>2</th>\n",
       "      <td>JHU_1.731717</td>\n",
       "      <td>1:731718</td>\n",
       "      <td>C</td>\n",
       "      <td>T</td>\n",
       "      <td>1.0140</td>\n",
       "      <td>0.4322</td>\n",
       "      <td>0.12650</td>\n",
       "      <td>0.12480</td>\n",
       "      <td>2.732000e-01</td>\n",
       "      <td>9.667000e-01</td>\n",
       "      <td>60825</td>\n",
       "      <td>BioVU</td>\n",
       "    </tr>\n",
       "    <tr>\n",
       "      <th>3</th>\n",
       "      <td>rs3131972</td>\n",
       "      <td>1:752721</td>\n",
       "      <td>T</td>\n",
       "      <td>C</td>\n",
       "      <td>1.0030</td>\n",
       "      <td>0.8433</td>\n",
       "      <td>0.17610</td>\n",
       "      <td>0.17520</td>\n",
       "      <td>2.008000e-38</td>\n",
       "      <td>3.579000e-26</td>\n",
       "      <td>61694</td>\n",
       "      <td>BioVU</td>\n",
       "    </tr>\n",
       "    <tr>\n",
       "      <th>4</th>\n",
       "      <td>JHU_1.761957</td>\n",
       "      <td>1:761958</td>\n",
       "      <td>T</td>\n",
       "      <td>C</td>\n",
       "      <td>0.9944</td>\n",
       "      <td>0.8486</td>\n",
       "      <td>0.04120</td>\n",
       "      <td>0.04146</td>\n",
       "      <td>6.071000e-27</td>\n",
       "      <td>6.260000e-22</td>\n",
       "      <td>61727</td>\n",
       "      <td>BioVU</td>\n",
       "    </tr>\n",
       "  </tbody>\n",
       "</table>\n",
       "</div>"
      ],
      "text/plain": [
       "            SNP chr:pos (hg37) A1 A2      OR       P  MAF (cases)  \\\n",
       "0   1:49554-G-A        1:49554  G  A  0.9960  0.8906      0.04189   \n",
       "1  JHU_1.565975       1:565976  C  T  0.9803  0.5325      0.01633   \n",
       "2  JHU_1.731717       1:731718  C  T  1.0140  0.4322      0.12650   \n",
       "3     rs3131972       1:752721  T  C  1.0030  0.8433      0.17610   \n",
       "4  JHU_1.761957       1:761958  T  C  0.9944  0.8486      0.04120   \n",
       "\n",
       "   MAF (controls)  HWE P-value (cases)  HWE P-value (controls)      N cohort  \n",
       "0         0.04202         1.227000e-27            2.697000e-19  61373  BioVU  \n",
       "1         0.01699         0.000000e+00            0.000000e+00  61156  BioVU  \n",
       "2         0.12480         2.732000e-01            9.667000e-01  60825  BioVU  \n",
       "3         0.17520         2.008000e-38            3.579000e-26  61694  BioVU  \n",
       "4         0.04146         6.071000e-27            6.260000e-22  61727  BioVU  "
      ]
     },
     "execution_count": 16,
     "metadata": {},
     "output_type": "execute_result"
    },
    {
     "data": {
      "text/plain": [
       "(798051, 12)"
      ]
     },
     "execution_count": 16,
     "metadata": {},
     "output_type": "execute_result"
    }
   ],
   "source": [
    "final_merged_df.head()\n",
    "final_merged_df.shape"
   ]
  },
  {
   "cell_type": "code",
   "execution_count": 17,
   "metadata": {
    "ExecuteTime": {
     "end_time": "2019-12-08T19:58:02.651361Z",
     "start_time": "2019-12-08T19:58:02.328549Z"
    }
   },
   "outputs": [],
   "source": [
    "final_merged_df.sort_values('P', inplace=True)"
   ]
  },
  {
   "cell_type": "code",
   "execution_count": 19,
   "metadata": {
    "ExecuteTime": {
     "end_time": "2019-12-08T20:15:32.483383Z",
     "start_time": "2019-12-08T20:15:32.475534Z"
    }
   },
   "outputs": [
    {
     "data": {
      "text/plain": [
       "'0.24.0'"
      ]
     },
     "execution_count": 19,
     "metadata": {},
     "output_type": "execute_result"
    }
   ],
   "source": [
    "pd.__version__"
   ]
  },
  {
   "cell_type": "markdown",
   "metadata": {},
   "source": []
  },
  {
   "cell_type": "code",
   "execution_count": 20,
   "metadata": {
    "ExecuteTime": {
     "end_time": "2019-12-08T20:17:46.332997Z",
     "start_time": "2019-12-08T20:17:39.247916Z"
    }
   },
   "outputs": [],
   "source": [
    "final_merged_df.to_csv(os.path.join(OUTPUT_DIR, 'biovu_summary_stats_{}.csv'.format(DATE)), sep=\",\", index=False)"
   ]
  },
  {
   "cell_type": "code",
   "execution_count": null,
   "metadata": {},
   "outputs": [],
   "source": []
  }
 ],
 "metadata": {
  "kernelspec": {
   "display_name": "Python 3",
   "language": "python",
   "name": "python3"
  },
  "language_info": {
   "codemirror_mode": {
    "name": "ipython",
    "version": 3
   },
   "file_extension": ".py",
   "mimetype": "text/x-python",
   "name": "python",
   "nbconvert_exporter": "python",
   "pygments_lexer": "ipython3",
   "version": "3.6.7"
  },
  "toc": {
   "base_numbering": 1,
   "nav_menu": {},
   "number_sections": true,
   "sideBar": true,
   "skip_h1_title": false,
   "title_cell": "Table of Contents",
   "title_sidebar": "Contents",
   "toc_cell": false,
   "toc_position": {},
   "toc_section_display": true,
   "toc_window_display": false
  }
 },
 "nbformat": 4,
 "nbformat_minor": 2
}
